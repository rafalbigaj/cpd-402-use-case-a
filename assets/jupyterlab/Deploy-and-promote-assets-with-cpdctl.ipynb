{
 "cells": [
  {
   "cell_type": "markdown",
   "metadata": {
    "id": "c3613028-000e-4efa-8f9b-b7062f7dd29d"
   },
   "source": [
    "# CPDCTL Demo - ML Model and Python script lifecycle"
   ]
  },
  {
   "cell_type": "markdown",
   "metadata": {
    "id": "be13661b-b65e-47ab-bfd0-745d4ebd6326"
   },
   "source": [
    "CPDCTL is a command-line interface (CLI) you can use to manage the lifecycle of models, notebooks, scripts and other assets. By using the assets CLI, you can automate the flow for creating notebooks and scripts and running jobs, moving assets between projects in Watson Studio and deployment spaces.   \n",
    "\n",
    "This notebook begins by showing you how to install and configure CPDCTL and is then split up into three sections with examples of how to use the commands to:\n",
    "\n",
    "- Train a model in the project and deploy in the development space \n",
    "- Promote assets to the test space and run validation\n",
    "- Update assets in the production space"
   ]
  },
  {
   "cell_type": "markdown",
   "metadata": {
    "id": "f9272769-8ae3-440b-b92d-e64ccfa2fa9b"
   },
   "source": [
    "## Table of Contents"
   ]
  },
  {
   "cell_type": "markdown",
   "metadata": {
    "id": "d8846006-4eef-44b6-b321-97de7dd48ff9"
   },
   "source": [
    "[1. Install and Configure CPDCTL](#part1)\n",
    "- [1.1 Installing the latest version of CPDCTL](#part1.1)\n",
    "- [1.2 Adding CPD cluster configuration settings](#part1.2)\n",
    "\n",
    "[2. Demo 1: Train a model in the project and deploy in the development space](#part2)\n",
    "- [2.1 Promote script asset to the space](#part2.1)\n",
    "- [2.2 Run batch deployment job](#part2.2)\n",
    "\n",
    "[3. Demo 2: Promote assets to the test space and run validation](#part3)\n",
    "- [3.1 Export all asssets from the source (DEV) space](#part3.1)\n",
    "- [3.2 Create test space and import assets there](#part3.2)\n",
    "- [3.3 Run batch deployment job in the test space](#part3.3)\n",
    "\n",
    "[4. Demo 3: Update assets in the production space](#part4)\n",
    "- [4.1 Import new asset versions to the production space](#part4.1)\n",
    "- [4.2 Updating the existing model deployment](#part4.2)\n",
    "- [4.3 Run production model deployment validation](#part4.3)\n",
    "\n",
    "[5. Cleanup](#part5)"
   ]
  },
  {
   "cell_type": "markdown",
   "metadata": {
    "id": "158833d9-c325-466d-ae1e-03a83c3f106a"
   },
   "source": [
    "## Before you begin\n",
    "Import the following libraries:"
   ]
  },
  {
   "cell_type": "code",
   "execution_count": 1,
   "metadata": {
    "id": "69f63a5f-ef42-456f-9f07-42cf39d63a4c",
    "tags": []
   },
   "outputs": [],
   "source": [
    "import base64\n",
    "import json\n",
    "import os\n",
    "import requests\n",
    "import platform\n",
    "import tarfile\n",
    "import zipfile\n",
    "from datetime import datetime\n",
    "from IPython.core.display import display, HTML"
   ]
  },
  {
   "cell_type": "markdown",
   "metadata": {
    "id": "b2b8a955-d011-433d-a387-194d09e1b8aa"
   },
   "source": [
    "##  1. Installing and configurating CPDCTL <a class=\"anchor\" id=\"part1\"></a>"
   ]
  },
  {
   "cell_type": "markdown",
   "metadata": {
    "id": "c70380ce-21a0-4eda-9add-a510bcadfd95"
   },
   "source": [
    "### 1.1 Installing the latest version of CPDCTL <a class=\"anchor\" id=\"part1.1\"></a>"
   ]
  },
  {
   "cell_type": "markdown",
   "metadata": {
    "id": "2288d721-5c71-4873-a830-8f20a65529b0"
   },
   "source": [
    "To use the notebook and environment CLI commands, you need to install CPDCTL. Download the binary from the [CPDCTL GitHub respository](https://github.com/IBM/cpdctl/releases)."
   ]
  },
  {
   "cell_type": "markdown",
   "metadata": {
    "id": "733641e5-a295-45e5-ab69-4ef96671bf5e"
   },
   "source": [
    "Download the binary and then display the version number:"
   ]
  },
  {
   "cell_type": "code",
   "execution_count": 2,
   "metadata": {
    "id": "4ac93589-ceba-4464-933d-9308657270fa",
    "tags": []
   },
   "outputs": [
    {
     "data": {
      "text/html": [
       "<code>cpdctl</code> binary downloaded from: <a href=\"https://github.com/IBM/cpdctl/releases/download/v1.0.105/cpdctl_linux_amd64.tar.gz\">cpdctl_linux_amd64.tar.gz</a>"
      ],
      "text/plain": [
       "<IPython.core.display.HTML object>"
      ]
     },
     "metadata": {},
     "output_type": "display_data"
    },
    {
     "data": {
      "text/html": [
       "<style>div.output_area pre {white-space: pre;}</style>"
      ],
      "text/plain": [
       "<IPython.core.display.HTML object>"
      ]
     },
     "metadata": {},
     "output_type": "display_data"
    },
    {
     "data": {
      "text/html": [
       "<style>.container { width:90% !important; }</style>"
      ],
      "text/plain": [
       "<IPython.core.display.HTML object>"
      ]
     },
     "metadata": {},
     "output_type": "display_data"
    }
   ],
   "source": [
    "PLATFORM = platform.system().lower()\n",
    "CPDCTL_ARCH = \"{}_amd64\".format(PLATFORM)\n",
    "CPDCTL_RELEASES_URL=\"https://api.github.com/repos/IBM/cpdctl/releases\"\n",
    "CWD = os.getcwd()\n",
    "PATH = os.environ['PATH']\n",
    "CPDCONFIG = os.path.join(CWD, '.cpdctl.config.yml')\n",
    "\n",
    "response = requests.get(CPDCTL_RELEASES_URL)\n",
    "assets = response.json()[0]['assets']\n",
    "platform_asset = next(a for a in assets if CPDCTL_ARCH in a['name'])\n",
    "cpdctl_url = platform_asset['url']\n",
    "cpdctl_file_name = platform_asset['name']\n",
    "\n",
    "response = requests.get(cpdctl_url, headers={'Accept': 'application/octet-stream'})\n",
    "with open(cpdctl_file_name, 'wb') as f:\n",
    "    f.write(response.content)\n",
    "    \n",
    "display(HTML('<code>cpdctl</code> binary downloaded from: <a href=\"{}\">{}</a>'.format(platform_asset['browser_download_url'], platform_asset['name'])))\n",
    "display(HTML(\"<style>div.output_area pre {white-space: pre;}</style>\"))\n",
    "display(HTML(\"<style>.container { width:90% !important; }</style>\"))"
   ]
  },
  {
   "cell_type": "code",
   "execution_count": 3,
   "metadata": {
    "id": "973eec67-df65-4728-955a-99275ff3d7b5",
    "tags": []
   },
   "outputs": [],
   "source": [
    "%%capture\n",
    "\n",
    "%env PATH={CWD}:{PATH}\n",
    "%env CPDCONFIG={CPDCONFIG}"
   ]
  },
  {
   "cell_type": "code",
   "execution_count": 4,
   "metadata": {
    "id": "16b72f3a-4bc0-487b-b4f6-b32dc87217a5",
    "tags": []
   },
   "outputs": [
    {
     "name": "stdout",
     "output_type": "stream",
     "text": [
      "cpdctl version: 1.0.105\n"
     ]
    }
   ],
   "source": [
    "if cpdctl_file_name.endswith('tar.gz'):\n",
    "    with tarfile.open(cpdctl_file_name, \"r:gz\") as tar:\n",
    "        tar.extractall()\n",
    "elif cpdctl_file_name.endswith('zip'):\n",
    "    with zipfile.ZipFile(cpdctl_file_name, 'r') as zf:\n",
    "        zf.extractall()\n",
    "\n",
    "if CPDCONFIG and os.path.exists(CPDCONFIG):\n",
    "    os.remove(CPDCONFIG)\n",
    "    \n",
    "version_r = ! cpdctl version\n",
    "CPDCTL_VERSION = version_r.s\n",
    "\n",
    "os.remove(cpdctl_file_name)\n",
    "\n",
    "print(\"cpdctl version: {}\".format(CPDCTL_VERSION))"
   ]
  },
  {
   "cell_type": "markdown",
   "metadata": {
    "id": "cce2bda8-9a74-4dc6-9357-f61eb91da17a"
   },
   "source": [
    "### 1.2  Adding CPD cluster configuration settings <a class=\"anchor\" id=\"part1.2\"></a>"
   ]
  },
  {
   "cell_type": "markdown",
   "metadata": {
    "id": "55388071-bbad-494d-957d-77122b83683c"
   },
   "source": [
    "Before you can use CPDCTL, you need to add configuration settings. You only need to configure these settings once for the same CPD user and cluster. Begin by entering your IBM Cloud Pak for Data (CPD) credentials and the URL to the CPD cluster:"
   ]
  },
  {
   "cell_type": "code",
   "execution_count": null,
   "metadata": {
    "id": "9f61c092-7010-44f2-87d7-fe1fde27ae3f",
    "tags": []
   },
   "outputs": [],
   "source": [
    "CPD_USER_NAME = #'YOUR CPD user name'\n",
    "CPD_USER_PASSWORD = #'YOUR CPD user password'\n",
    "CPD_URL = #'YOUR CPD CLUSTER URL'"
   ]
  },
  {
   "cell_type": "markdown",
   "metadata": {
    "id": "4f358339-25c7-4878-90c5-c011c8cbd03d"
   },
   "source": [
    "Add \"cpd_user\" user to the cpdctl configuration:"
   ]
  },
  {
   "cell_type": "code",
   "execution_count": 6,
   "metadata": {
    "id": "10a43ef5-d2cd-42b2-a4d5-5a60bb398a3a",
    "tags": []
   },
   "outputs": [],
   "source": [
    "! cpdctl config user set cpd_user --username {CPD_USER_NAME} --apikey {CPD_USER_APIKEY}"
   ]
  },
  {
   "cell_type": "markdown",
   "metadata": {
    "id": "58ea9e42-091a-49fc-94eb-f7b64806b13a"
   },
   "source": [
    "Add \"cpd\" cluster to the cpdctl configuration:"
   ]
  },
  {
   "cell_type": "code",
   "execution_count": 7,
   "metadata": {
    "id": "65e762c8-4de3-4af9-b3b2-3295651bbd31",
    "tags": []
   },
   "outputs": [],
   "source": [
    "! cpdctl config profile set cpd --url {CPD_URL}"
   ]
  },
  {
   "cell_type": "markdown",
   "metadata": {
    "id": "61c3876b-e2a8-4fe2-afdc-21d8be564f7a"
   },
   "source": [
    "Add \"cpd\" context to the cpdctl configuration:"
   ]
  },
  {
   "cell_type": "code",
   "execution_count": 8,
   "metadata": {
    "id": "24d85201-292d-4566-ab6b-5475d4a5c8a7",
    "tags": []
   },
   "outputs": [],
   "source": [
    "! cpdctl config context set cpd --profile cpd --user cpd_user"
   ]
  },
  {
   "cell_type": "markdown",
   "metadata": {
    "id": "5b45dd4b-6738-4226-890b-ab8f0a6af459"
   },
   "source": [
    "List available contexts:"
   ]
  },
  {
   "cell_type": "code",
   "execution_count": 9,
   "metadata": {
    "id": "646fbfa8-2516-4b11-8d80-b96deb74b932",
    "tags": []
   },
   "outputs": [
    {
     "name": "stdout",
     "output_type": "stream",
     "text": [
      "\u001b[1mName\u001b[0m   \u001b[1mProfile\u001b[0m   \u001b[1mUser\u001b[0m       \u001b[1mCurrent\u001b[0m   \n",
      "\u001b[36;1mcpd\u001b[0m    cpd       cpd_user   *   \n"
     ]
    }
   ],
   "source": [
    "! cpdctl config context list"
   ]
  },
  {
   "cell_type": "markdown",
   "metadata": {
    "id": "069e7b8d-f952-4e8a-b5dd-3e2f360b21df"
   },
   "source": [
    "and profiles:"
   ]
  },
  {
   "cell_type": "code",
   "execution_count": 10,
   "metadata": {
    "id": "d191650d-2aaa-4a04-928d-1e1ca975c69d",
    "tags": []
   },
   "outputs": [
    {
     "name": "stdout",
     "output_type": "stream",
     "text": [
      "\u001b[1mName\u001b[0m   \u001b[1mType\u001b[0m      \u001b[1mUser\u001b[0m   \u001b[1mURL\u001b[0m   \n",
      "\u001b[36;1mcpd\u001b[0m    private          https://cpd-zen.apps.cpd35rt.os.fyre.ibm.com   \n"
     ]
    }
   ],
   "source": [
    "! cpdctl config profile list"
   ]
  },
  {
   "cell_type": "markdown",
   "metadata": {
    "id": "b3c8f983-0e73-4360-93c5-07b84429c9db"
   },
   "source": [
    "Switch the current context:"
   ]
  },
  {
   "cell_type": "code",
   "execution_count": 11,
   "metadata": {
    "id": "2c4adafd-7bea-4914-a041-d0169aa38624",
    "tags": []
   },
   "outputs": [
    {
     "name": "stdout",
     "output_type": "stream",
     "text": [
      "Switched to context \"cpd\".\n"
     ]
    }
   ],
   "source": [
    "! cpdctl config context use cpd"
   ]
  },
  {
   "cell_type": "markdown",
   "metadata": {
    "id": "ad5e6318-8cf1-457e-b31a-9ff60da7b297"
   },
   "source": [
    "List available projects in context:"
   ]
  },
  {
   "cell_type": "code",
   "execution_count": 72,
   "metadata": {
    "id": "8a3a891e-ba46-4a94-aa65-fdc3dbfd6f04",
    "tags": []
   },
   "outputs": [
    {
     "name": "stdout",
     "output_type": "stream",
     "text": [
      "...\n",
      "\u001b[1mID\u001b[0m                                     \u001b[1mName\u001b[0m                               \u001b[1mCreated\u001b[0m                    \u001b[1mDescription\u001b[0m                                          \u001b[1mTags\u001b[0m   \n",
      "\u001b[36;1m47c57769-9876-46bc-ad26-259c559cbc3f\u001b[0m   Clustering Demo (git-integrated)   2021-06-21T10:59:35.265Z   Demo showing how to cluster data in CPD using cod…   []   \n",
      "\u001b[36;1m68d739dd-7c54-41ae-9ed3-f04db182e559\u001b[0m   jm-proj                            2021-07-15T10:27:38.452Z                                                        []   \n",
      "\u001b[36;1m87d3b6e0-19e1-4e4e-8c4c-11f1a9df789c\u001b[0m   fvt-project                        2021-06-28T12:46:42.246Z                                                        []   \n",
      "\u001b[36;1ma5d7960c-5194-4013-9a0c-4da2d3f6583e\u001b[0m   test-mo                            2021-06-23T11:43:56.992Z                                                        []   \n",
      "\u001b[36;1mb9653c0d-8d41-40bb-8bd0-08a44615607a\u001b[0m   CPD402-use-case-A                  2021-08-04T14:02:51.279Z                                                        []   \n",
      "\u001b[36;1me655370d-4513-45f9-b4c6-c45692044773\u001b[0m   cpdctl-demo                        2021-07-15T09:28:43.603Z                                                        []   \n",
      "\u001b[36;1mfc5888cd-89d8-411b-b24a-ea1b9c5fd87e\u001b[0m   fvt-jobs                           2021-07-08T09:25:36.060Z                                                        []   \n"
     ]
    }
   ],
   "source": [
    "! cpdctl project list"
   ]
  },
  {
   "cell_type": "markdown",
   "metadata": {
    "id": "acf61f2a-2919-4c82-9bc8-b1dbc4f7af8d"
   },
   "source": [
    "Choose a project in which you will work:"
   ]
  },
  {
   "cell_type": "code",
   "execution_count": 13,
   "metadata": {
    "id": "c6f5f77d-8627-4cbe-adff-b45f0cc14b16",
    "tags": []
   },
   "outputs": [],
   "source": [
    "# You can also specify your project id directly:\n",
    "project_id = \"b9653c0d-8d41-40bb-8bd0-08a44615607a\""
   ]
  },
  {
   "cell_type": "markdown",
   "metadata": {
    "id": "3873236f-bd25-491f-af93-edc103252965"
   },
   "source": [
    "## 2. Demo 1: Train a model in the project and deploy in the development space  <a class=\"anchor\" id=\"part2\"></a>"
   ]
  },
  {
   "cell_type": "markdown",
   "metadata": {
    "id": "6db75b66-6a62-4165-ada0-e363731277b6"
   },
   "source": [
    "Before starting with this section, please ensure that you have run the cells in [Section 1](#part1) and specified the ID of the project in which you will work."
   ]
  },
  {
   "cell_type": "markdown",
   "metadata": {
    "id": "6bc5ea98-7422-421d-afaa-1d39afc761ae"
   },
   "source": [
    "Suppose you have a notebook created with JupyterLab in Watson Studio, which trains a ML model, and you would like to run the code on a CPD cluster. This section shows how to run the notebook in a project and then promote trained model to a space. "
   ]
  },
  {
   "cell_type": "markdown",
   "metadata": {
    "id": "52ea46b2-a0de-4378-ab83-6a4c763d1d56"
   },
   "source": [
    "<img width=\"700px\" align=\"center\"  src=\"data:image/svg+xml;base64,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\">"
   ]
  },
  {
   "cell_type": "markdown",
   "metadata": {
    "id": "0868fcd1-2478-4ac1-bea8-0d60cceb32f9"
   },
   "source": [
    "### 2.1 Promote script asset to the space<a class=\"anchor\" id=\"part2.1\"></a>"
   ]
  },
  {
   "cell_type": "markdown",
   "metadata": {
    "id": "ada1dcf9-59f0-47b1-8be7-2c3037c7a93b"
   },
   "source": [
    "List all data assets in your project:"
   ]
  },
  {
   "cell_type": "code",
   "execution_count": 14,
   "metadata": {
    "id": "16ad9496-c396-45eb-ada7-b259ec98e03c",
    "tags": []
   },
   "outputs": [
    {
     "name": "stdout",
     "output_type": "stream",
     "text": [
      "...\n",
      "\u001b[1mID\u001b[0m                                     \u001b[1mName\u001b[0m                         \u001b[1mCreated\u001b[0m                    \u001b[1mDescription\u001b[0m   \u001b[1mType\u001b[0m         \u001b[1mState\u001b[0m       \u001b[1mTags\u001b[0m   \u001b[1mSize\u001b[0m   \n",
      "\u001b[36;1m9bd1bc72-41d2-40fa-a60c-691816a71e72\u001b[0m   credit_risk_training.csv     2021-08-05T09:25:42.000Z                 data_asset   available   []     689622   \n",
      "\u001b[36;1mb3bb1a37-266f-46ed-9bec-9ffdcee5bca3\u001b[0m   credit_risk_regression.csv   2021-08-05T13:09:36.000Z                 data_asset   available   []     694219   \n"
     ]
    }
   ],
   "source": [
    "! cpdctl asset search --project-id {project_id} --type-name data_asset --query \"*:*\""
   ]
  },
  {
   "cell_type": "code",
   "execution_count": 15,
   "metadata": {
    "id": "14718a1a-141c-4205-9dbc-20e86274d753",
    "tags": []
   },
   "outputs": [],
   "source": [
    "training_data_asset_id = '9bd1bc72-41d2-40fa-a60c-691816a71e72'\n",
    "regression_data_asset_id = 'b3bb1a37-266f-46ed-9bec-9ffdcee5bca3'"
   ]
  },
  {
   "cell_type": "markdown",
   "metadata": {
    "id": "68fa3453-8ec5-4942-954f-0b6e68a306c3"
   },
   "source": [
    "List all notebooks in your project:"
   ]
  },
  {
   "cell_type": "code",
   "execution_count": 16,
   "metadata": {
    "id": "8d5480fe-d520-439a-abb5-2100077aecb9",
    "tags": []
   },
   "outputs": [
    {
     "name": "stdout",
     "output_type": "stream",
     "text": [
      "...\n",
      "\u001b[1mID\u001b[0m                                     \u001b[1mName\u001b[0m          \u001b[1mCreated\u001b[0m                    \u001b[1mDescription\u001b[0m   \u001b[1mType\u001b[0m       \u001b[1mState\u001b[0m       \u001b[1mTags\u001b[0m         \u001b[1mSize\u001b[0m   \n",
      "\u001b[36;1maeba686c-a49f-4992-aaf7-0fc5d7a12a7f\u001b[0m   train_model   2021-08-05T09:54:57.000Z                 notebook   available   [notebook]   54308   \n"
     ]
    }
   ],
   "source": [
    "! cpdctl asset search --project-id {project_id} --type-name notebook --query \"*:*\""
   ]
  },
  {
   "cell_type": "code",
   "execution_count": 17,
   "metadata": {
    "id": "a54cf6da-46b6-4a57-87d7-51c53b07e179",
    "tags": []
   },
   "outputs": [],
   "source": [
    "notebook_id = 'aeba686c-a49f-4992-aaf7-0fc5d7a12a7f'"
   ]
  },
  {
   "cell_type": "markdown",
   "metadata": {
    "id": "043aaa2f-91ca-45bb-96ec-c6e2cacf6847"
   },
   "source": [
    "Check if there is a notebook version. Because of the [known issue #18703](https://github.ibm.com/dap/dap-planning/issues/18703), \n",
    "notebooks imported from git do not have versions created."
   ]
  },
  {
   "cell_type": "code",
   "execution_count": 18,
   "metadata": {
    "id": "353c0143-4ceb-4ad5-b2d9-6feae2e0a7bc",
    "tags": []
   },
   "outputs": [
    {
     "name": "stdout",
     "output_type": "stream",
     "text": [
      "...\n",
      "\u001b[1mID\u001b[0m                                     \u001b[1mCreated\u001b[0m   \n",
      "\u001b[36;1m1562c587-d2bd-485c-a408-3f2f4c2360ec\u001b[0m   1628752234913   \n",
      "\u001b[36;1m94b044bb-afdc-4ba7-a359-c905a5f9167a\u001b[0m   1628161224983   \n",
      "\u001b[36;1mdff4a679-faae-4c79-8bd6-54cbb557c1b7\u001b[0m   1628160717665   \n"
     ]
    }
   ],
   "source": [
    "! cpdctl notebook version list --notebook-id {notebook_id}"
   ]
  },
  {
   "cell_type": "code",
   "execution_count": 25,
   "metadata": {
    "id": "dd43745b-214e-4437-9c68-79a6e99fbdf2",
    "tags": []
   },
   "outputs": [
    {
     "name": "stdout",
     "output_type": "stream",
     "text": [
      "...\n",
      "\u001b[1m\u001b[0m           \u001b[1m\u001b[0m   \n",
      "\u001b[36;1mID:\u001b[0m        1562c587-d2bd-485c-a408-3f2f4c2360ec   \n",
      "\u001b[36;1mCreated:\u001b[0m   1628752234913   \n"
     ]
    }
   ],
   "source": [
    "! cpdctl notebook version create --notebook-id {notebook_id}"
   ]
  },
  {
   "cell_type": "markdown",
   "metadata": {
    "id": "a6bd2db1-a075-4022-b7a4-1ecec74d98d2"
   },
   "source": [
    "Select the runtime environment"
   ]
  },
  {
   "cell_type": "code",
   "execution_count": 26,
   "metadata": {
    "id": "28fd8b1f-c33f-4b95-ace6-a2a4ec235e90",
    "tags": []
   },
   "outputs": [
    {
     "name": "stdout",
     "output_type": "stream",
     "text": [
      "...\n",
      "\u001b[1mID\u001b[0m                                                   \u001b[1mName\u001b[0m                \u001b[1mDescription\u001b[0m   \n",
      "\u001b[36;1mjupconda37oce-b9653c0d-8d41-40bb-8bd0-08a44615607a\u001b[0m   jupconda37oce          \n",
      "\u001b[36;1mjupyterlabpy37oce-b9653c0d-8d41-40bb-8bd0-08a4461…\u001b[0m   jupyterlabpy37oce      \n"
     ]
    }
   ],
   "source": [
    "! cpdctl environment list --project-id {project_id}"
   ]
  },
  {
   "cell_type": "code",
   "execution_count": 27,
   "metadata": {
    "id": "dd4aa8d8-1bb7-43ae-95a3-cb3308c35fe9",
    "tags": []
   },
   "outputs": [],
   "source": [
    "env_id = 'jupconda37oce-b9653c0d-8d41-40bb-8bd0-08a44615607a'\n",
    "\n",
    "MODEL_NAME = 'gcr-scikit-model'"
   ]
  },
  {
   "cell_type": "markdown",
   "metadata": {
    "id": "dc663cea-15bf-4424-9035-5638597e8670"
   },
   "source": [
    "Create a job for the notebook with selected environment"
   ]
  },
  {
   "cell_type": "code",
   "execution_count": 36,
   "metadata": {
    "id": "d4623972-cd40-45d7-bb03-0c8cf43a95ec",
    "tags": []
   },
   "outputs": [],
   "source": [
    "job = {\n",
    "    \"asset_ref\": notebook_id,\n",
    "    \"name\": \"train-gcr-scikit-model-job\",\n",
    "    \"configuration\": {\n",
    "        \"env_id\": env_id,\n",
    "        \"env_variables\": [\n",
    "            \"CPD_URL={}\".format(CPD_URL),\n",
    "            \"USER_NAME={}\".format(CPD_USER_NAME),\n",
    "            \"USER_APIKEY={}\".format(CPD_USER_APIKEY),\n",
    "            \"DATA_ASSET_ID={}\".format(training_data_asset_id),\n",
    "            \"MODEL_NAME={}\".format(MODEL_NAME)\n",
    "        ]\n",
    "    }\n",
    "}\n",
    "job_json = json.dumps(job)"
   ]
  },
  {
   "cell_type": "code",
   "execution_count": 38,
   "metadata": {
    "id": "5cdf06f0-5b40-45b7-ae8c-32c4c554a134",
    "tags": []
   },
   "outputs": [
    {
     "name": "stdout",
     "output_type": "stream",
     "text": [
      "...\n",
      "\u001b[1m\u001b[0m               \u001b[1m\u001b[0m   \n",
      "\u001b[36;1mID:\u001b[0m            202edd66-ed1a-4197-b2b9-5512c308216f   \n",
      "\u001b[36;1mName:\u001b[0m          train-gcr-scikit-model-job   \n",
      "\u001b[36;1mCreated:\u001b[0m       2021-08-12T07:14:46Z   \n",
      "\u001b[36;1mDescription:\u001b[0m      \n",
      "\u001b[36;1mType:\u001b[0m          job   \n",
      "\u001b[36;1mState:\u001b[0m         available   \n",
      "\u001b[36;1mTags:\u001b[0m          []   \n",
      "\u001b[36;1mSize:\u001b[0m          0   \n",
      "\u001b[36;1mVersion:\u001b[0m       2   \n"
     ]
    }
   ],
   "source": [
    "! cpdctl job create --project-id {project_id} --job '{job_json}'"
   ]
  },
  {
   "cell_type": "code",
   "execution_count": 39,
   "metadata": {
    "id": "59f7dc8e-1072-4abb-8832-f7087519c3d6",
    "tags": []
   },
   "outputs": [],
   "source": [
    "job_id = '202edd66-ed1a-4197-b2b9-5512c308216f'"
   ]
  },
  {
   "cell_type": "code",
   "execution_count": 40,
   "metadata": {
    "id": "b0bcc169-cc16-4994-aeda-68a98fe0f84e",
    "tags": []
   },
   "outputs": [],
   "source": [
    "job_run = {\n",
    "    \"job_run\": {}\n",
    "}\n",
    "job_run_json = json.dumps(job_run)"
   ]
  },
  {
   "cell_type": "markdown",
   "metadata": {
    "id": "41ee408c-5fe0-46c1-b1de-8ce5819550ae"
   },
   "source": [
    "Start the notebook job and wait for results and logs"
   ]
  },
  {
   "cell_type": "code",
   "execution_count": 41,
   "metadata": {
    "id": "c4c3b3c6-482f-4bef-a7da-68ad0ec3acb7",
    "tags": []
   },
   "outputs": [
    {
     "name": "stdout",
     "output_type": "stream",
     "text": [
      "...\n",
      "\u001b[1m\u001b[0m               \u001b[1m\u001b[0m   \n",
      "\u001b[36;1mID:\u001b[0m            b8288e8f-63da-44ec-a6bf-0cdbb9bc284d   \n",
      "\u001b[36;1mName:\u001b[0m          Notebook Job   \n",
      "\u001b[36;1mCreated:\u001b[0m       2021-08-12T07:15:00Z   \n",
      "\u001b[36;1mDescription:\u001b[0m      \n",
      "\u001b[36;1mType:\u001b[0m          job_run   \n",
      "\u001b[36;1mState:\u001b[0m         Starting   \n",
      "\u001b[36;1mTags:\u001b[0m          []   \n",
      "\u001b[36;1mSize:\u001b[0m          0   \n",
      "\u001b[36;1mVersion:\u001b[0m       2   \n"
     ]
    }
   ],
   "source": [
    "! cpdctl job run create --project-id {project_id} --job-id {job_id} --job-run '{job_run_json}' --async"
   ]
  },
  {
   "cell_type": "code",
   "execution_count": 42,
   "metadata": {
    "id": "36ee1420-8946-4bed-a9d6-e6821126b5fb",
    "tags": []
   },
   "outputs": [],
   "source": [
    "run_id = 'b8288e8f-63da-44ec-a6bf-0cdbb9bc284d'"
   ]
  },
  {
   "cell_type": "code",
   "execution_count": 43,
   "metadata": {
    "id": "dd79c388-3cf7-4aef-aa31-2c0b29c0df44",
    "tags": []
   },
   "outputs": [
    {
     "name": "stdout",
     "output_type": "stream",
     "text": [
      "...\n",
      "\u001b[1m\u001b[0m               \u001b[1m\u001b[0m   \n",
      "\u001b[36;1mID:\u001b[0m            b8288e8f-63da-44ec-a6bf-0cdbb9bc284d   \n",
      "\u001b[36;1mName:\u001b[0m          Notebook Job   \n",
      "\u001b[36;1mCreated:\u001b[0m       2021-08-12T07:15:00Z   \n",
      "\u001b[36;1mDescription:\u001b[0m      \n",
      "\u001b[36;1mState:\u001b[0m         Completed   \n",
      "\u001b[36;1mTags:\u001b[0m          []   \n"
     ]
    }
   ],
   "source": [
    "! cpdctl job run wait --project-id {project_id} --job-id {job_id} --run-id {run_id}"
   ]
  },
  {
   "cell_type": "code",
   "execution_count": 44,
   "metadata": {
    "id": "02db637b-4142-47fd-a50b-ea0611cce1e9",
    "tags": []
   },
   "outputs": [
    {
     "name": "stdout",
     "output_type": "stream",
     "text": [
      "...\n",
      "\n",
      "Cell 5:\n",
      "Successfully installed ibm-watson-machine-learning-1.0.116\n",
      "\n",
      "Cell 8:\n",
      "env: DATA_ASSET_ID=9bd1bc72-41d2-40fa-a60c-691816a71e72\n",
      "\n",
      "Cell 12:\n",
      "\n",
      "Cell 15:\n",
      "Successfully saved data asset content to file: 'training_data.csv'\n",
      "\n",
      "Cell 19:\n",
      "\n",
      "Cell 20:\n",
      "Columns:  ['CheckingStatus', 'LoanDuration', 'CreditHistory', 'LoanPurpose', 'LoanAmount', 'ExistingSavings', 'EmploymentDuration', 'InstallmentPercent', 'Sex', 'OthersOnLoan', 'CurrentResidenceDuration', 'OwnsProperty', 'Age', 'InstallmentPlans', 'Housing', 'ExistingCreditsCount', 'Job', 'Dependents', 'Telephone', 'ForeignWorker', 'Risk']\n",
      "Number of columns:  21\n",
      "\n",
      "Cell 22:\n",
      "Number of records:  5000\n",
      "\n",
      "Cell 23:\n",
      "\n",
      "Cell 25:\n",
      "\n",
      "Cell 40:\n",
      "0.738047642845244\n",
      "\n",
      "Cell 44:\n",
      "Deleting model id 11376def-10a6-49a8-ab03-f300063371b8\n",
      "\n",
      "--  ----  -------  ----\n",
      "ID  NAME  CREATED  TYPE\n",
      "--  ----  -------  ----\n",
      "\n",
      "Cell 47:\n",
      "Storing model ...\n",
      "\n",
      "Done\n",
      "\n",
      "Cell 48:\n",
      "------------------------------------  ----------------  ------------------------  -----------------\n",
      "ID                                    NAME              CREATED                   TYPE\n",
      "2c60c3a8-d461-4a66-b375-c3d4bf0c3102  gcr-scikit-model  2021-08-12T07:15:52.002Z  scikit-learn_0.23\n",
      "------------------------------------  ----------------  ------------------------  -----------------\n",
      "\n",
      "\n"
     ]
    }
   ],
   "source": [
    "! cpdctl job run logs --project-id {project_id} --job-id {job_id} --run-id {run_id}"
   ]
  },
  {
   "cell_type": "markdown",
   "metadata": {
    "id": "dbe0b547-25f3-404c-8bb4-eece031ea9df"
   },
   "source": [
    "Look for the new trained model"
   ]
  },
  {
   "cell_type": "code",
   "execution_count": 19,
   "metadata": {
    "id": "e1fd9098-d908-40ba-a669-920acae7c13d",
    "tags": []
   },
   "outputs": [
    {
     "name": "stdout",
     "output_type": "stream",
     "text": [
      "...\n",
      "\u001b[1mID\u001b[0m                                     \u001b[1mName\u001b[0m               \u001b[1mCreated\u001b[0m                    \u001b[1mDescription\u001b[0m   \u001b[1mType\u001b[0m        \u001b[1mState\u001b[0m       \u001b[1mTags\u001b[0m                  \u001b[1mSize\u001b[0m   \n",
      "\u001b[36;1m2c60c3a8-d461-4a66-b375-c3d4bf0c3102\u001b[0m   gcr-scikit-model   2021-08-12T07:15:52.000Z                 wml_model   available   [cpdctl-demo-model]   61046   \n"
     ]
    }
   ],
   "source": [
    "! cpdctl asset search --project-id {project_id} --query '*:*' --type-name wml_model"
   ]
  },
  {
   "cell_type": "code",
   "execution_count": 20,
   "metadata": {
    "id": "eff17e3f-47c9-4418-b397-17c7b1436199",
    "tags": []
   },
   "outputs": [],
   "source": [
    "model_id = '2c60c3a8-d461-4a66-b375-c3d4bf0c3102'"
   ]
  },
  {
   "cell_type": "markdown",
   "metadata": {
    "id": "d5186348-b862-4ec9-8411-ea1b7f5ea78b"
   },
   "source": [
    "List all spaces and select the development space"
   ]
  },
  {
   "cell_type": "code",
   "execution_count": 21,
   "metadata": {
    "id": "9bb8ed42-6687-4482-85f1-cc612d4f63b1",
    "tags": []
   },
   "outputs": [
    {
     "name": "stdout",
     "output_type": "stream",
     "text": [
      "...\n",
      "\u001b[1mID\u001b[0m                                     \u001b[1mName\u001b[0m                      \u001b[1mCreated\u001b[0m                    \u001b[1mDescription\u001b[0m   \u001b[1mState\u001b[0m    \u001b[1mTags\u001b[0m   \n",
      "\u001b[36;1m9001e03a-e3b9-4ddf-88db-063651d735b4\u001b[0m   qa-space                  2021-06-21T11:11:22.988Z                 active   []   \n",
      "\u001b[36;1m715f068a-a8c8-4093-a7f2-15ab111c21e5\u001b[0m   prod-space                2021-06-21T11:12:12.958Z                 active   []   \n",
      "\u001b[36;1ma72bfe88-5fc9-4323-90ad-53d94511d120\u001b[0m   fvt-space                 2021-06-28T12:50:33.447Z                 active   []   \n",
      "\u001b[36;1mcdd90e91-792c-4834-a26a-ac979b998fd8\u001b[0m   export-space              2021-07-09T12:02:55.754Z                 active   []   \n",
      "\u001b[36;1mbe32f9b8-702f-444e-9902-754464f39853\u001b[0m   jm-space                  2021-07-15T10:40:36.849Z                 active   []   \n",
      "\u001b[36;1m6237d988-c98f-4f70-acc4-c68f34329105\u001b[0m   test-space-cli-eb43d624   2021-07-22T07:49:54.127Z                 active   []   \n",
      "\u001b[36;1mdd383706-f430-4b1a-8ac8-36084fb821f6\u001b[0m   test-export               2021-07-28T17:12:57.575Z                 active   []   \n",
      "\u001b[36;1m48742238-a5c4-41a6-aaef-fad673989698\u001b[0m   test-export2              2021-07-28T19:01:02.963Z                 active   []   \n",
      "\u001b[36;1mcabc9c63-1260-4f71-98f5-89652740fd0c\u001b[0m   fvt-non-empty-space       2021-07-30T06:52:05.521Z                 active   []   \n",
      "\u001b[36;1m3fc77ff4-e188-4897-89f6-33ebb83bf2e1\u001b[0m   fvt-non-empty-space-22    2021-07-30T07:26:42.248Z                 active   []   \n",
      "\u001b[36;1m11d37d5d-f15c-4c53-a4c8-778d25eb8e24\u001b[0m   fvt-non-empty-space-33    2021-07-30T07:49:02.536Z                 active   []   \n",
      "\u001b[36;1mdd8b17a3-1ef6-42f1-96c9-4143c5392ba1\u001b[0m   f (1)                     2021-07-30T12:21:24.453Z                 active   []   \n",
      "\u001b[36;1mdf6c5538-652e-4b90-82c6-892112928d09\u001b[0m   hk                        2021-07-30T12:23:59.555Z                 active   []   \n",
      "\u001b[36;1m857dd20d-784d-4269-aa84-b2be8029f7c6\u001b[0m   non-empty-space-444       2021-08-03T06:29:13.017Z                 active   []   \n",
      "\u001b[36;1m53a36702-770d-4b98-b85a-57622bb7cea5\u001b[0m   x                         2021-08-03T10:39:19.899Z                 active   []   \n",
      "\u001b[36;1mbf3d89b8-3ad3-4b6c-8775-0eb345ef3d87\u001b[0m   response                  2021-08-05T09:20:21.880Z                 active   []   \n",
      "\u001b[36;1m48de138b-afe8-480c-87c3-34f9a9dc1892\u001b[0m   dev-space                 2021-08-05T11:13:09.045Z                 active   []   \n",
      "\u001b[36;1m8cb2bb27-94d4-4060-a6e2-4c995b575b5e\u001b[0m   space1                    2021-08-06T00:42:19.802Z                 active   []   \n",
      "\u001b[36;1m7017063d-f59c-4999-97c4-e5aa307014c5\u001b[0m   export1                   2021-08-06T08:49:04.249Z                 active   []   \n",
      "\u001b[36;1m2115b972-b21c-4189-86d2-cadac9b32f73\u001b[0m   sefsd                     2021-08-06T15:39:28.406Z                 active   []   \n",
      "\u001b[36;1mad234d0d-1991-4655-bef0-23542131789d\u001b[0m   cpdctl-demo-space         2021-08-11T13:33:35.442Z                 active   []   \n",
      "\u001b[36;1m799c19dc-0b44-4a28-8060-51c513806398\u001b[0m   cpdctl-demo-qa-space      2021-08-11T13:45:09.538Z                 active   []   \n"
     ]
    }
   ],
   "source": [
    "! cpdctl space list"
   ]
  },
  {
   "cell_type": "code",
   "execution_count": 22,
   "metadata": {
    "id": "a1c1fefd-1474-498d-82b4-29fe4796074d",
    "tags": []
   },
   "outputs": [],
   "source": [
    "dev_space_id = '48de138b-afe8-480c-87c3-34f9a9dc1892'"
   ]
  },
  {
   "cell_type": "markdown",
   "metadata": {
    "id": "cfc17cdf-4dda-45c8-99aa-aab26f199689"
   },
   "source": [
    "Select trained model and promote to the development space:"
   ]
  },
  {
   "cell_type": "code",
   "execution_count": 50,
   "metadata": {
    "id": "d5161eca-a28b-4330-a74f-241b7009055f",
    "tags": []
   },
   "outputs": [
    {
     "name": "stdout",
     "output_type": "stream",
     "text": [
      "...\n",
      "\u001b[32;1mOK\u001b[0m\n"
     ]
    }
   ],
   "source": [
    "import json\n",
    "\n",
    "promote = {\n",
    "    \"mode\": 0,\n",
    "    \"space_id\": dev_space_id,\n",
    "    \"metadata\": {\n",
    "        \"tags\": [\"cpdctl-demo\", \"promoted-asset-{}]\".format(model_id)]\n",
    "    }\n",
    "}\n",
    "promote_json = json.dumps(promote)\n",
    "\n",
    "! cpdctl asset promote --project-id {project_id} --asset-id {model_id} --request-body '{promote_json}'"
   ]
  },
  {
   "cell_type": "markdown",
   "metadata": {
    "id": "e1919e92-d2a4-458c-bdc4-7cd4afa0da03"
   },
   "source": [
    "List assets in the development space"
   ]
  },
  {
   "cell_type": "code",
   "execution_count": 54,
   "metadata": {
    "id": "ed5b8261-7747-4592-bc5b-da3a5a9af3a1",
    "tags": []
   },
   "outputs": [
    {
     "name": "stdout",
     "output_type": "stream",
     "text": [
      "...\n",
      "\u001b[1mID\u001b[0m                                     \u001b[1mName\u001b[0m               \u001b[1mCreated\u001b[0m                    \u001b[1mDescription\u001b[0m   \u001b[1mType\u001b[0m        \u001b[1mState\u001b[0m       \u001b[1mTags\u001b[0m                                                                 \u001b[1mSize\u001b[0m   \n",
      "\u001b[36;1m4baac07a-2f3d-4c7e-9843-45a660ddac1c\u001b[0m   gcr-scikit-model   2021-08-12T07:18:17.000Z                 wml_model   available   [cpdctl-demo promoted-asset-2c60c3a8-d461-4a66-b375-c3d4bf0c3102]]   61046   \n"
     ]
    }
   ],
   "source": [
    "! cpdctl asset search --space-id {dev_space_id} --type-name wml_model --query \"*:*\""
   ]
  },
  {
   "cell_type": "code",
   "execution_count": 55,
   "metadata": {
    "id": "61cba398-ff44-4564-94a3-5c2bd13af9f9",
    "tags": []
   },
   "outputs": [],
   "source": [
    "dev_model_id = '4baac07a-2f3d-4c7e-9843-45a660ddac1c'"
   ]
  },
  {
   "cell_type": "markdown",
   "metadata": {
    "id": "307a8ed6-171f-4233-b61a-a503b5848169"
   },
   "source": [
    "Deploy the promoted ML model as a web service (online deployment)"
   ]
  },
  {
   "cell_type": "code",
   "execution_count": 56,
   "metadata": {
    "id": "a927552e-900d-4f6b-807d-80461303a56c",
    "tags": []
   },
   "outputs": [
    {
     "name": "stdout",
     "output_type": "stream",
     "text": [
      "...\n",
      "\u001b[1m\u001b[0m           \u001b[1m\u001b[0m   \n",
      "\u001b[36;1mID:\u001b[0m        abcc8535-7e22-43cf-9dbf-8ab3f5bfde32   \n",
      "\u001b[36;1mName:\u001b[0m         \n",
      "\u001b[36;1mCreated:\u001b[0m   2021-08-12T07:19:30.422Z   \n",
      "\u001b[36;1mState:\u001b[0m     ready   \n",
      "\u001b[36;1mTags:\u001b[0m      []   \n"
     ]
    }
   ],
   "source": [
    "online_json = '{}'\n",
    "asset_json = json.dumps({\"id\": dev_model_id})\n",
    "\n",
    "! cpdctl ml deployment create --space-id {dev_space_id} --asset '{asset_json}' --online '{online_json}'"
   ]
  },
  {
   "cell_type": "markdown",
   "metadata": {
    "id": "ccb403fa-e0ec-4dd6-9ef1-726dd36e2832"
   },
   "source": [
    "Promote the regression data set and the evaluation python script"
   ]
  },
  {
   "cell_type": "code",
   "execution_count": 54,
   "metadata": {
    "id": "140e8ba9-62d0-4a2d-a568-3947fcde990f",
    "tags": []
   },
   "outputs": [
    {
     "name": "stdout",
     "output_type": "stream",
     "text": [
      "...\n",
      "\u001b[32;1mOK\u001b[0m\n"
     ]
    }
   ],
   "source": [
    "promote = {\n",
    "    \"space_id\": dev_space_id\n",
    "}\n",
    "promote_json = json.dumps(promote)\n",
    "\n",
    "! cpdctl asset promote --project-id {project_id} --asset-id {regression_data_asset_id} --request-body '{promote_json}'"
   ]
  },
  {
   "cell_type": "code",
   "execution_count": 57,
   "metadata": {
    "id": "14db3c7e-dbb0-4f75-9c5d-968cffc8b806",
    "tags": []
   },
   "outputs": [
    {
     "name": "stdout",
     "output_type": "stream",
     "text": [
      "...\n",
      "\u001b[1mID\u001b[0m                                     \u001b[1mName\u001b[0m             \u001b[1mCreated\u001b[0m                    \u001b[1mDescription\u001b[0m   \u001b[1mType\u001b[0m     \u001b[1mState\u001b[0m       \u001b[1mTags\u001b[0m   \u001b[1mSize\u001b[0m   \n",
      "\u001b[36;1m9d6575b7-a244-4492-8b0a-aa530dc54c18\u001b[0m   evaluate_model   2021-08-05T09:54:57.000Z                 script   available   []     233   \n"
     ]
    }
   ],
   "source": [
    "! cpdctl asset search --project-id {project_id} --type-name script --query \"*:*\""
   ]
  },
  {
   "cell_type": "code",
   "execution_count": 58,
   "metadata": {
    "id": "76f5b34c-ae63-4d3b-acf4-a548b66cf655",
    "tags": []
   },
   "outputs": [],
   "source": [
    "evaluation_script_id = '9d6575b7-a244-4492-8b0a-aa530dc54c18'"
   ]
  },
  {
   "cell_type": "markdown",
   "metadata": {
    "id": "9ec01fec-b9c3-47bd-94fa-70aaed02bba1"
   },
   "source": [
    "Get the python script details"
   ]
  },
  {
   "cell_type": "code",
   "execution_count": 59,
   "metadata": {
    "id": "820675b3-d7ae-41d2-b7fd-0d8e1dd03cba",
    "tags": []
   },
   "outputs": [
    {
     "name": "stdout",
     "output_type": "stream",
     "text": [
      "{\n",
      "  \"attachments\": [\n",
      "    {\n",
      "      \"asset_type\": \"script\",\n",
      "      \"description\": \"attachment for script\",\n",
      "      \"id\": \"68130b09-5c7b-4148-9bf0-1f409a13fdc7\",\n",
      "      \"is_partitioned\": false,\n",
      "      \"mime\": \"application/text\",\n",
      "      \"name\": \"evaluate_model\",\n",
      "      \"object_key\": \"/jupyterlab/evaluate_model.py\",\n",
      "      \"test_doc\": 0,\n",
      "      \"user_data\": {}\n",
      "    }\n",
      "  ],\n",
      "  \"entity\": {\n",
      "    \"script\": {\n",
      "      \"language\": {\n",
      "        \"name\": \"python3\"\n",
      "      },\n",
      "      \"software_spec\": {\n",
      "        \"base_id\": \"c2057dd4-f42c-5f77-a02f-72bdbd3282c9\",\n",
      "        \"name\": \"default_py3.7_opence\"\n",
      "      }\n",
      "    }\n",
      "  },\n",
      "  \"metadata\": {\n",
      "    \"asset_attributes\": [\n",
      "      \"script\"\n",
      "    ],\n",
      "    \"asset_category\": \"USER\",\n",
      "    \"asset_id\": \"9d6575b7-a244-4492-8b0a-aa530dc54c18\",\n",
      "    \"asset_state\": \"available\",\n",
      "    \"asset_type\": \"script\",\n",
      "    \"created_at\": \"2021-08-05T09:54:57.000Z\",\n",
      "    \"description\": \"\",\n",
      "    \"name\": \"evaluate_model\",\n",
      "    \"origin_country\": \"us\",\n",
      "    \"owner_id\": \"1000330999\",\n",
      "    \"rov\": {\n",
      "      \"mode\": 0\n",
      "    },\n",
      "    \"size\": 233\n",
      "  }\n",
      "}\n"
     ]
    }
   ],
   "source": [
    "! cpdctl asset get --project-id {project_id} --asset-id {evaluation_script_id} --output json"
   ]
  },
  {
   "cell_type": "code",
   "execution_count": 60,
   "metadata": {
    "id": "10009e2f-6bfe-483d-a6d0-0265e1ff5697",
    "tags": []
   },
   "outputs": [
    {
     "name": "stdout",
     "output_type": "stream",
     "text": [
      "...\n",
      "\u001b[1mID\u001b[0m                                     \u001b[1mName\u001b[0m                   \u001b[1mCreated\u001b[0m                    \u001b[1mDescription\u001b[0m          \u001b[1mType\u001b[0m   \n",
      "\u001b[36;1mc2057dd4-f42c-5f77-a02f-72bdbd3282c9\u001b[0m   default_py3.7_opence   2021-06-17T17:45:09.912Z   Default Python 3.7   software_specification   \n"
     ]
    }
   ],
   "source": [
    "! cpdctl environment software-specification list --project-id {project_id} --name \"default_py3.7_opence\""
   ]
  },
  {
   "cell_type": "markdown",
   "metadata": {
    "id": "ead9432f-3ace-40e7-b085-8b5a8df31d3e"
   },
   "source": [
    "Find \"default_py3.7_opence\" software specification ID"
   ]
  },
  {
   "cell_type": "code",
   "execution_count": 38,
   "metadata": {
    "id": "b528cfde-c6b9-438d-8086-182485e25730",
    "tags": []
   },
   "outputs": [
    {
     "name": "stdout",
     "output_type": "stream",
     "text": [
      "software specification id: c2057dd4-f42c-5f77-a02f-72bdbd3282c9\n"
     ]
    }
   ],
   "source": [
    "software_specification_name = \"default_py3.7_opence\"\n",
    "jmes_query = \"resources[0].metadata.asset_id\"\n",
    "result = ! cpdctl environment software-specification list --project-id {project_id} --name '{software_specification_name}' --output json --jmes-query '{jmes_query}' --raw-output\n",
    "software_specification_id = result.s\n",
    "print(\"software specification id: {}\".format(software_specification_id))"
   ]
  },
  {
   "cell_type": "markdown",
   "metadata": {
    "id": "208638c0-46a9-4ada-8088-b204fe0a4946"
   },
   "source": [
    "Set python script's software spececification"
   ]
  },
  {
   "cell_type": "code",
   "execution_count": 48,
   "metadata": {
    "id": "7f19c424-6bd3-4ebd-ad94-ef40ed8cc007",
    "tags": []
   },
   "outputs": [
    {
     "name": "stdout",
     "output_type": "stream",
     "text": [
      "...\n",
      "\u001b[32;1mOK\u001b[0m\n"
     ]
    }
   ],
   "source": [
    "software_spec = {\n",
    "    \"base_id\": \"{}\".format(software_specification_id),\n",
    "    \"name\": software_specification_name\n",
    "}\n",
    "\n",
    "patch = [{\n",
    "    \"op\": \"add\",\n",
    "    \"path\": \"/software_spec\",\n",
    "    \"value\": software_spec\n",
    "}]\n",
    "patch_json = json.dumps(patch)\n",
    "\n",
    "! cpdctl asset attribute update --project-id {project_id} --asset-id {evaluation_script_id} --attribute-key script  --json-patch '{patch_json}'"
   ]
  },
  {
   "cell_type": "markdown",
   "metadata": {
    "id": "a4237631-0c31-484e-a6d0-a2977ee7d022",
    "tags": []
   },
   "source": [
    "Promote evaluation script to the development space"
   ]
  },
  {
   "cell_type": "code",
   "execution_count": 55,
   "metadata": {
    "id": "84ed1366-f191-4bd1-882b-c9ffe0114174",
    "tags": []
   },
   "outputs": [
    {
     "name": "stdout",
     "output_type": "stream",
     "text": [
      "...\n",
      "\u001b[32;1mOK\u001b[0m\n"
     ]
    }
   ],
   "source": [
    "promote = {\n",
    "    \"space_id\": dev_space_id\n",
    "}\n",
    "promote_json = json.dumps(promote)\n",
    "\n",
    "! cpdctl asset promote --project-id {project_id} --asset-id {evaluation_script_id} --request-body '{promote_json}'"
   ]
  },
  {
   "cell_type": "code",
   "execution_count": 62,
   "metadata": {
    "id": "062fdc35-dddd-4be8-b7d7-48508148199f",
    "tags": []
   },
   "outputs": [
    {
     "name": "stdout",
     "output_type": "stream",
     "text": [
      "...\n",
      "\u001b[1mID\u001b[0m                                     \u001b[1mName\u001b[0m                         \u001b[1mCreated\u001b[0m                    \u001b[1mDescription\u001b[0m   \u001b[1mType\u001b[0m         \u001b[1mState\u001b[0m       \u001b[1mTags\u001b[0m                                                 \u001b[1mSize\u001b[0m   \n",
      "\u001b[36;1mee219910-028a-44ff-93a7-00c80b97af47\u001b[0m   credit_risk_regression.csv   2021-08-09T13:30:32.000Z                 data_asset   available   []                                                   694219   \n",
      "\u001b[36;1m882e7ef8-3b28-41e5-9bd6-8d2c9eb4cf6d\u001b[0m   evaluate_model               2021-08-09T13:30:54.000Z                 script       available   []                                                   233   \n",
      "\u001b[36;1m4baac07a-2f3d-4c7e-9843-45a660ddac1c\u001b[0m   gcr-scikit-model             2021-08-12T07:18:17.000Z                 wml_model    available   [cpdctl-demo promoted-asset-2c60c3a8-d461-4a66-b3…   61046   \n"
     ]
    }
   ],
   "source": [
    "! cpdctl asset search --space-id {dev_space_id} --query '*:*' --type-name asset"
   ]
  },
  {
   "cell_type": "code",
   "execution_count": 23,
   "metadata": {
    "id": "e6dcd614-224f-4316-a932-780ed115f19e",
    "tags": []
   },
   "outputs": [],
   "source": [
    "promoted_model_id = '882e7ef8-3b28-41e5-9bd6-8d2c9eb4cf6d'\n",
    "promoted_regression_data_asset_id = 'ee219910-028a-44ff-93a7-00c80b97af47'"
   ]
  },
  {
   "cell_type": "markdown",
   "metadata": {
    "id": "afd6b912-d2b9-49fb-8ab9-3ef53d44e526"
   },
   "source": [
    "### 2.2 Run batch deployment job <a class=\"anchor\" id=\"part2.2\"></a>"
   ]
  },
  {
   "cell_type": "markdown",
   "metadata": {
    "id": "c2f17197-2639-416b-b8db-110d70bc5755"
   },
   "source": [
    "Create batch deployment:"
   ]
  },
  {
   "cell_type": "code",
   "execution_count": 93,
   "metadata": {
    "id": "16d0acd9-84ce-4a57-a654-6f492e5b62a3",
    "tags": []
   },
   "outputs": [],
   "source": [
    "asset = {\n",
    "    'id': promoted_model_id\n",
    "}\n",
    "asset_json = json.dumps(asset)\n",
    "\n",
    "hardware_spec = {\n",
    "    'name': 'S'\n",
    "}\n",
    "hardware_spec_json = json.dumps(hardware_spec)\n",
    "\n",
    "batch_json = '{}'\n",
    "\n",
    "deployment_name = 'model_batch_deployment'"
   ]
  },
  {
   "cell_type": "code",
   "execution_count": 94,
   "metadata": {
    "id": "8319413a-6d28-401a-a889-2ac1c6856906",
    "tags": []
   },
   "outputs": [
    {
     "name": "stdout",
     "output_type": "stream",
     "text": [
      "deployment id: bb5a3c0c-fbbd-4a16-a52c-a79feabd7b5e\n"
     ]
    }
   ],
   "source": [
    "result = ! cpdctl ml deployment create --space-id {dev_space_id} --name '{deployment_name}' --asset '{asset_json}' --hardware-spec '{hardware_spec_json}' --batch '{batch_json}' --output json -j \"metadata.id\" --raw-output\n",
    "deployment_id = result.s\n",
    "print(\"deployment id: {}\".format(deployment_id))"
   ]
  },
  {
   "cell_type": "markdown",
   "metadata": {
    "id": "70f86b02-c9ac-4f4e-9731-ef010bf9ea22"
   },
   "source": [
    "Create a deployment job"
   ]
  },
  {
   "cell_type": "code",
   "execution_count": 95,
   "metadata": {
    "id": "4a0e26b6-7af7-414b-b199-ceed1412901f",
    "tags": []
   },
   "outputs": [],
   "source": [
    "deployment_job_name = 'model_batch_deployment_job'\n",
    "\n",
    "deployment = {\n",
    "    'id': deployment_id\n",
    "}\n",
    "deployment_json = json.dumps(deployment)\n",
    "\n",
    "scoring = {\n",
    "    \"input_data_references\": [\n",
    "      {\n",
    "        \"type\": \"data_asset\",\n",
    "        \"connection\": {},\n",
    "        \"location\": {\n",
    "          \"href\": \"/v2/assets/{}?space_id={}\".format(promoted_regression_data_asset_id, dev_space_id)\n",
    "        }\n",
    "      }\n",
    "    ],\n",
    "    \"output_data_reference\": {\n",
    "      \"type\": \"data_asset\",\n",
    "      \"connection\": {},\n",
    "      \"location\": {\n",
    "        \"name\": \"evaluation_result.zip\"\n",
    "      }\n",
    "    }\n",
    "}\n",
    "scoring_json = json.dumps(scoring)"
   ]
  },
  {
   "cell_type": "code",
   "execution_count": 96,
   "metadata": {
    "id": "10a64183-ec0d-4d53-b83f-3691de7e49fa",
    "tags": []
   },
   "outputs": [
    {
     "name": "stdout",
     "output_type": "stream",
     "text": [
      "Deployment job ID: bee95e51-a4bb-4599-8b9d-b39b1acd1a7c\n"
     ]
    }
   ],
   "source": [
    "result = ! cpdctl ml deployment-job create --space-id {dev_space_id} --name '{deployment_job_name}' --deployment '{deployment_json}' --scoring '{scoring_json}' --output json -j \"metadata.id\" --raw-output\n",
    "deployment_job_id = result.s\n",
    "print('Deployment job ID:', deployment_job_id)"
   ]
  },
  {
   "cell_type": "code",
   "execution_count": 98,
   "metadata": {
    "id": "f5b70057-0fe1-4915-8b63-9bf4b90e0f32",
    "tags": []
   },
   "outputs": [],
   "source": [
    "result = ! cpdctl ml deployment-job get --space-id {dev_space_id} --job-id {deployment_job_id} --output json\n",
    "deployment_job = json.loads(result.s)\n",
    "job_id = deployment_job['entity']['platform_job']['job_id']\n",
    "run_id = deployment_job['entity']['platform_job']['run_id']"
   ]
  },
  {
   "cell_type": "markdown",
   "metadata": {
    "id": "b7f07f78-7a20-4eec-8bdb-6ad5dfd80336"
   },
   "source": [
    "Wait for job completion"
   ]
  },
  {
   "cell_type": "code",
   "execution_count": 99,
   "metadata": {
    "id": "a6bc1934-5e39-45f5-afd7-ae010d859897",
    "tags": []
   },
   "outputs": [
    {
     "name": "stdout",
     "output_type": "stream",
     "text": [
      "...\n",
      "\u001b[1m\u001b[0m               \u001b[1m\u001b[0m   \n",
      "\u001b[36;1mID:\u001b[0m            e126fea4-5f9e-46c9-8d88-5d07840fcb17   \n",
      "\u001b[36;1mName:\u001b[0m          job run   \n",
      "\u001b[36;1mCreated:\u001b[0m       2021-08-09T14:16:51Z   \n",
      "\u001b[36;1mDescription:\u001b[0m      \n",
      "\u001b[36;1mState:\u001b[0m         Completed   \n",
      "\u001b[36;1mTags:\u001b[0m          []   \n"
     ]
    }
   ],
   "source": [
    "! cpdctl job run wait --job-id {job_id} --run-id {run_id} --space-id {dev_space_id}"
   ]
  },
  {
   "cell_type": "markdown",
   "metadata": {
    "id": "1ade98e5-c61f-4b30-82a7-5c0c0d80056b"
   },
   "source": [
    "You can see the batch deployment log:"
   ]
  },
  {
   "cell_type": "code",
   "execution_count": 100,
   "metadata": {
    "id": "8df80861-c1ce-452c-a0aa-63b5359e6682",
    "tags": []
   },
   "outputs": [
    {
     "name": "stdout",
     "output_type": "stream",
     "text": [
      "...\n",
      "{\n",
      "  \"deployment\": {\n",
      "    \"id\": \"bb5a3c0c-fbbd-4a16-a52c-a79feabd7b5e\"\n",
      "  },\n",
      "  \"platform_job\": {\n",
      "    \"job_id\": \"7ec1c5f8-77d5-4afd-a001-e522b924a4ed\",\n",
      "    \"run_id\": \"e126fea4-5f9e-46c9-8d88-5d07840fcb17\"\n",
      "  },\n",
      "  \"scoring\": {\n",
      "    \"input_data_references\": [\n",
      "      {\n",
      "        \"connection\": {},\n",
      "        \"location\": {\n",
      "          \"href\": \"/v2/assets/ee219910-028a-44ff-93a7-00c80b97af47?space_id=48de138b-afe8-480c-87c3-34f9a9dc1892\"\n",
      "        },\n",
      "        \"type\": \"data_asset\"\n",
      "      }\n",
      "    ],\n",
      "    \"output_data_reference\": {\n",
      "      \"connection\": {},\n",
      "      \"location\": {\n",
      "        \"href\": \"/v2/assets/1ff5fefb-ece3-4ea6-8154-91acd039eb45?space_id=48de138b-afe8-480c-87c3-34f9a9dc1892\",\n",
      "        \"name\": \"evaluation_result.zip\"\n",
      "      },\n",
      "      \"type\": \"data_asset\"\n",
      "    },\n",
      "    \"status\": {\n",
      "      \"completed_at\": \"2021-08-09T14:17:13.328270Z\",\n",
      "      \"running_at\": \"2021-08-09T14:17:10.079015Z\",\n",
      "      \"state\": \"completed\"\n",
      "    }\n",
      "  }\n",
      "}\n",
      "\n"
     ]
    }
   ],
   "source": [
    "! cpdctl job run logs --job-id {job_id} --run-id {run_id} --space-id {dev_space_id}"
   ]
  },
  {
   "cell_type": "code",
   "execution_count": 101,
   "metadata": {
    "id": "b8212c05-4a6e-48d7-8b4a-b161607cda0e",
    "tags": []
   },
   "outputs": [],
   "source": [
    "output_data_asset_id = '1ff5fefb-ece3-4ea6-8154-91acd039eb45'"
   ]
  },
  {
   "cell_type": "markdown",
   "metadata": {
    "id": "a29d77e0-f502-4ca9-8319-639d8cecb468"
   },
   "source": [
    "Clean the job and produced results"
   ]
  },
  {
   "cell_type": "code",
   "execution_count": 105,
   "metadata": {
    "id": "0e075e01-57a3-416f-ac62-adf809580db3",
    "tags": []
   },
   "outputs": [
    {
     "name": "stdout",
     "output_type": "stream",
     "text": [
      "...\n",
      "\u001b[1mID\u001b[0m                                     \u001b[1mName\u001b[0m                                   \u001b[1mDescription\u001b[0m   \u001b[1mTags\u001b[0m   \u001b[1mVersion\u001b[0m   \n",
      "\u001b[36;1m7ec1c5f8-77d5-4afd-a001-e522b924a4ed\u001b[0m   default job - model_batch_deployment                 []     0   \n"
     ]
    }
   ],
   "source": [
    "! cpdctl job list --space-id {dev_space_id}"
   ]
  },
  {
   "cell_type": "code",
   "execution_count": 103,
   "metadata": {
    "id": "44a9fe9a-f21a-4a06-a56b-e0d3c7a1d97a",
    "tags": []
   },
   "outputs": [
    {
     "name": "stdout",
     "output_type": "stream",
     "text": [
      "...\n",
      "\u001b[32;1mOK\u001b[0m\n"
     ]
    }
   ],
   "source": [
    "! cpdctl ml deployment delete --space-id {dev_space_id} --deployment-id {deployment_id}"
   ]
  },
  {
   "cell_type": "code",
   "execution_count": null,
   "metadata": {
    "id": "46e2b488-090c-4b03-a47e-e050bc7af674",
    "tags": []
   },
   "outputs": [],
   "source": [
    "! cpdctl job delete --space-id {dev_space_id} --job-id {deployment_job_id}"
   ]
  },
  {
   "cell_type": "code",
   "execution_count": 106,
   "metadata": {
    "id": "69568088-8bcd-4991-8c13-05f83033c5a9",
    "tags": []
   },
   "outputs": [
    {
     "name": "stdout",
     "output_type": "stream",
     "text": [
      "...\n",
      "\u001b[32;1mOK\u001b[0m\n"
     ]
    }
   ],
   "source": [
    "! cpdctl asset delete --space-id {dev_space_id} --asset-id {output_data_asset_id}"
   ]
  },
  {
   "cell_type": "markdown",
   "metadata": {
    "id": "36937022-903e-4ab7-ac5a-1cea4ba4f01d"
   },
   "source": [
    "## 3. Demo 2: Promote assets to the test space and run validation<a class=\"anchor\" id=\"part3\"></a>"
   ]
  },
  {
   "cell_type": "markdown",
   "metadata": {
    "id": "a0e45f8d-2a21-474c-a318-eff154ea4593"
   },
   "source": [
    "Before starting with this section, please ensure that you have run the cells in [Section 1](#part1) and [Section 2](#part2)."
   ]
  },
  {
   "cell_type": "markdown",
   "metadata": {
    "id": "181619ac-10f4-4c9a-bfd3-b7527dc5652e"
   },
   "source": [
    "Having all assets ready in the development space, we can promote (export & import) into the test space. Once there, we can run validation on the regression data set and analyse results."
   ]
  },
  {
   "cell_type": "markdown",
   "metadata": {
    "id": "c40e0c8e-336b-4d53-9c09-499f2ace7cf9"
   },
   "source": [
    "<img width=\"700px\" align=\"center\"  src=\"data:image/svg+xml;base64,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\">"
   ]
  },
  {
   "cell_type": "markdown",
   "metadata": {
    "id": "d2df4a4c-199f-43a1-bc5b-7557c9f2ca63"
   },
   "source": [
    "### 3.1 Export all asssets from the source (DEV) space<a class=\"anchor\" id=\"part3.1\"></a>"
   ]
  },
  {
   "cell_type": "markdown",
   "metadata": {
    "id": "25646a13-e597-4164-9188-b5fc4011371f"
   },
   "source": [
    "List all assets in the source (DEV) space"
   ]
  },
  {
   "cell_type": "code",
   "execution_count": 24,
   "metadata": {
    "id": "233296d8-d70b-4b02-aa65-6e39ac4cd842",
    "tags": []
   },
   "outputs": [
    {
     "name": "stdout",
     "output_type": "stream",
     "text": [
      "...\n",
      "\u001b[1mID\u001b[0m                                     \u001b[1mName\u001b[0m                         \u001b[1mCreated\u001b[0m                    \u001b[1mDescription\u001b[0m   \u001b[1mType\u001b[0m         \u001b[1mState\u001b[0m       \u001b[1mTags\u001b[0m                                                 \u001b[1mSize\u001b[0m   \n",
      "\u001b[36;1mee219910-028a-44ff-93a7-00c80b97af47\u001b[0m   credit_risk_regression.csv   2021-08-09T13:30:32.000Z                 data_asset   available   []                                                   694219   \n",
      "\u001b[36;1m882e7ef8-3b28-41e5-9bd6-8d2c9eb4cf6d\u001b[0m   evaluate_model               2021-08-09T13:30:54.000Z                 script       available   []                                                   233   \n",
      "\u001b[36;1m4baac07a-2f3d-4c7e-9843-45a660ddac1c\u001b[0m   gcr-scikit-model             2021-08-12T07:18:17.000Z                 wml_model    available   [cpdctl-demo promoted-asset-2c60c3a8-d461-4a66-b3…   61046   \n"
     ]
    }
   ],
   "source": [
    "! cpdctl asset search --space-id {dev_space_id} --query '*:*' --type-name asset"
   ]
  },
  {
   "cell_type": "markdown",
   "metadata": {
    "id": "8e52834d-bba5-4833-8343-8964a422fba9"
   },
   "source": [
    "Export all assets from the source (DEV) space"
   ]
  },
  {
   "cell_type": "code",
   "execution_count": 25,
   "metadata": {
    "id": "ecb5434c-0cfc-4c55-aac3-045574109f97",
    "tags": []
   },
   "outputs": [
    {
     "name": "stdout",
     "output_type": "stream",
     "text": [
      "...\n",
      "\u001b[1m\u001b[0m           \u001b[1m\u001b[0m   \n",
      "\u001b[36;1mID:\u001b[0m        349055bc-2fb2-40d1-accc-29cbe7092744   \n",
      "\u001b[36;1mName:\u001b[0m      dev-space-all-assets   \n",
      "\u001b[36;1mCreated:\u001b[0m   2021-08-16T13:19:05.421Z   \n",
      "\u001b[36;1mState:\u001b[0m     completed   \n"
     ]
    }
   ],
   "source": [
    "export = {\n",
    "    'all_assets': True\n",
    "}\n",
    "export_json = json.dumps(export)\n",
    "\n",
    "! cpdctl asset export start --space-id {dev_space_id} --assets '{export_json}' --name dev-space-all-assets"
   ]
  },
  {
   "cell_type": "code",
   "execution_count": 26,
   "metadata": {
    "id": "fe47d1b9-a7f6-41ec-89e9-660b2fa514e5",
    "tags": []
   },
   "outputs": [],
   "source": [
    "export_id = '349055bc-2fb2-40d1-accc-29cbe7092744'"
   ]
  },
  {
   "cell_type": "code",
   "execution_count": 27,
   "metadata": {
    "id": "fc43c471-d702-47af-adcb-e4f2616bb528",
    "tags": []
   },
   "outputs": [
    {
     "name": "stdout",
     "output_type": "stream",
     "text": [
      "...\n",
      "\u001b[32;1mOK\u001b[0m\n",
      "Output written to dev-space-assets.zip\n"
     ]
    }
   ],
   "source": [
    "dev_space_archive_path = 'dev-space-assets.zip'\n",
    "! cpdctl asset export download --space-id {dev_space_id} --export-id {export_id} --output-file {dev_space_archive_path}"
   ]
  },
  {
   "cell_type": "code",
   "execution_count": 28,
   "metadata": {
    "id": "25933246-9d55-4dbf-9a2f-3ddc97243cc6",
    "tags": []
   },
   "outputs": [
    {
     "name": "stdout",
     "output_type": "stream",
     "text": [
      "Archive:  dev-space-assets.zip\n",
      "  Length      Date    Time    Name\n",
      "---------  ---------- -----   ----\n",
      "       44  08-16-2021 13:19   deflate.log\n",
      "      469  08-16-2021 13:19   assettypes/data_asset.json\n",
      "      476  08-16-2021 13:19   assettypes/omrs_relationship_message.json\n",
      "      344  08-16-2021 13:19   assettypes/omrs_entity.json\n",
      "      479  08-16-2021 13:19   assettypes/omrs_relationship.json\n",
      "      326  08-16-2021 13:19   assettypes/connection.json\n",
      "      251  08-16-2021 13:19   assettypes/policy_transform.json\n",
      "      206  08-16-2021 13:19   assettypes/data_flow.json\n",
      "    16789  08-16-2021 13:19   assettypes/wml_function.json\n",
      "    43577  08-16-2021 13:19   assettypes/wml_pipeline.json\n",
      "    40878  08-16-2021 13:19   assettypes/wml_deployment_job_definition.json\n",
      "     2545  08-16-2021 13:19   assettypes/wml_remote_training_system.json\n",
      "      546  08-16-2021 13:19   assettypes/connection_credentials.json\n",
      "      543  08-16-2021 13:19   assettypes/environment.json\n",
      "      494  08-16-2021 13:19   assettypes/notebook.json\n",
      "     1941  08-16-2021 13:19   assettypes/script.json\n",
      "      433  08-16-2021 13:19   assettypes/folder_asset.json\n",
      "     1005  08-16-2021 13:19   assettypes/column_info.json\n",
      "      560  08-16-2021 13:19   assettypes/asset_terms.json\n",
      "     1459  08-16-2021 13:19   assettypes/job_run.json\n",
      "     1055  08-16-2021 13:19   assettypes/job.json\n",
      "     1043  08-16-2021 13:19   assettypes/hardware_specification.json\n",
      "      530  08-16-2021 13:19   assettypes/software_specification.json\n",
      "      305  08-16-2021 13:19   assettypes/package_extension.json\n",
      "      236  08-16-2021 13:19   assettypes/code_package.json\n",
      "    28155  08-16-2021 13:19   assettypes/wml_training_definition.json\n",
      "      449  08-16-2021 13:19   assettypes/shiny_asset.json\n",
      "     3079  08-16-2021 13:19   assettypes/wml_model_definition.json\n",
      "    41328  08-16-2021 13:19   assettypes/wml_model.json\n",
      "    13237  08-16-2021 13:19   assettypes/wml_experiment.json\n",
      "    61046  08-12-2021 07:18   assets/wml_model/gcr_scikit_model_e34piotnmifb1bcvs8fhaay33\n",
      "     2442  08-16-2021 13:19   assets/.METADATA/wml_model.4baac07a-2f3d-4c7e-9843-45a660ddac1c.json\n",
      "     1463  08-16-2021 13:19   assets/.METADATA/script.882e7ef8-3b28-41e5-9bd6-8d2c9eb4cf6d.json\n",
      "   694219  08-09-2021 13:30   assets/data_asset/credit_risk_regression_csv_ddfroxrxsipweyoiv62zi3bqu.csv\n",
      "     1294  08-16-2021 13:19   assets/.METADATA/data_asset.ee219910-028a-44ff-93a7-00c80b97af47.json\n",
      "      368  08-16-2021 13:19   space.json\n",
      "      233  08-09-2021 13:30   assets/script/evaluate_model_ecp80zwadm0qaap7mo8x6f16g.py\n",
      "---------                     -------\n",
      "   963847                     37 files\n"
     ]
    }
   ],
   "source": [
    "! unzip -l {dev_space_archive_path}"
   ]
  },
  {
   "cell_type": "markdown",
   "metadata": {
    "id": "e79c76d2-422c-4999-bf4b-6a56bd7adad2"
   },
   "source": [
    "### 3.2 Create test space and import assets there<a class=\"anchor\" id=\"part3.2\"></a>"
   ]
  },
  {
   "cell_type": "markdown",
   "metadata": {
    "id": "d2b73a83-ef67-4741-8545-8559fad638a5"
   },
   "source": [
    "Create a new test space"
   ]
  },
  {
   "cell_type": "code",
   "execution_count": 71,
   "metadata": {
    "id": "3de0ffd0-3887-48ec-ad25-b2757c71e065",
    "tags": []
   },
   "outputs": [
    {
     "name": "stdout",
     "output_type": "stream",
     "text": [
      "The new 'test-space-20210812-072404' space ID is: 1c6bbc05-e756-4ba7-9ef7-c45c8aaab827\n"
     ]
    }
   ],
   "source": [
    "from datetime import datetime\n",
    "\n",
    "now_dt = datetime.now()\n",
    "ts = now_dt.strftime(\"%Y%m%d-%H%M%S\")\n",
    "\n",
    "test_space_name = 'test-space-{}'.format(ts)\n",
    "result = ! cpdctl space create --name '{test_space_name}' --output json --jmes-query \"metadata.id\" --raw-output\n",
    "test_space_id = result.s\n",
    "\n",
    "print(\"The new '{}' space ID is: {}\".format(test_space_name, test_space_id))"
   ]
  },
  {
   "cell_type": "markdown",
   "metadata": {
    "id": "a7ff06a0-1877-4cfd-98d4-b22756185077"
   },
   "source": [
    "Import assets from the exported archive into test space"
   ]
  },
  {
   "cell_type": "code",
   "execution_count": 72,
   "metadata": {
    "id": "bbb93c53-425d-42f8-bdad-718ea7c05831",
    "tags": []
   },
   "outputs": [
    {
     "name": "stdout",
     "output_type": "stream",
     "text": [
      "The new import ID is: 77a1eb30-a792-4f77-96d4-3b2bb2e10ee0\n"
     ]
    }
   ],
   "source": [
    "result = ! cpdctl asset import start --space-id {test_space_id} --import-file {dev_space_archive_path} --output json --jmes-query \"metadata.id\" --raw-output\n",
    "test_import_id = result.s\n",
    "print(\"The new import ID is: {}\".format(test_import_id))"
   ]
  },
  {
   "cell_type": "code",
   "execution_count": 73,
   "metadata": {
    "id": "06b377a0-1548-418b-beda-c8d4e8836e0d",
    "tags": []
   },
   "outputs": [
    {
     "name": "stdout",
     "output_type": "stream",
     "text": [
      "...\n",
      "\u001b[1m\u001b[0m           \u001b[1m\u001b[0m   \n",
      "\u001b[36;1mID:\u001b[0m        77a1eb30-a792-4f77-96d4-3b2bb2e10ee0   \n",
      "\u001b[36;1mCreated:\u001b[0m   2021-08-12T07:24:13.200Z   \n",
      "\u001b[36;1mState:\u001b[0m     completed   \n"
     ]
    }
   ],
   "source": [
    "! cpdctl asset import get --space-id {test_space_id} --import-id {test_import_id}"
   ]
  },
  {
   "cell_type": "markdown",
   "metadata": {
    "id": "6befbe8e-8744-4a53-aa5d-fe1a9bcd5b85"
   },
   "source": [
    "List all assets in the test space"
   ]
  },
  {
   "cell_type": "code",
   "execution_count": 74,
   "metadata": {
    "id": "e3f8d018-c718-4264-9e8a-fad7c136fe72",
    "tags": []
   },
   "outputs": [
    {
     "name": "stdout",
     "output_type": "stream",
     "text": [
      "...\n",
      "\u001b[1mID\u001b[0m                                     \u001b[1mName\u001b[0m                         \u001b[1mCreated\u001b[0m                    \u001b[1mDescription\u001b[0m   \u001b[1mType\u001b[0m         \u001b[1mState\u001b[0m       \u001b[1mTags\u001b[0m   \u001b[1mSize\u001b[0m   \n",
      "\u001b[36;1md709a597-f8d4-4572-a989-f0402b847998\u001b[0m   credit_risk_regression.csv   2021-08-12T07:24:17.000Z                 data_asset   available   []     694219   \n",
      "\u001b[36;1m36e40f7a-155d-45d2-a775-bcbe6b8bb2b5\u001b[0m   gcr-scikit-model             2021-08-12T07:24:17.000Z                 wml_model    available   []     61046   \n",
      "\u001b[36;1me6a0027f-e4b0-40c8-b3a6-5a0d72951ec6\u001b[0m   evaluate_model               2021-08-12T07:24:17.000Z                 script       available   []     233   \n"
     ]
    }
   ],
   "source": [
    "! cpdctl asset search --space-id {test_space_id} --query '*:*' --type-name asset"
   ]
  },
  {
   "cell_type": "markdown",
   "metadata": {
    "id": "231959a3-81b6-49d5-b0d5-956593090c48"
   },
   "source": [
    "Search for the imported asset IDs in the test space"
   ]
  },
  {
   "cell_type": "code",
   "execution_count": 75,
   "metadata": {
    "id": "b9cecb59-b726-4695-a94a-7f5e0f524a32",
    "tags": []
   },
   "outputs": [
    {
     "name": "stdout",
     "output_type": "stream",
     "text": [
      "Model ID: 36e40f7a-155d-45d2-a775-bcbe6b8bb2b5\n",
      "Script ID: e6a0027f-e4b0-40c8-b3a6-5a0d72951ec6\n",
      "Test data asset ID: d709a597-f8d4-4572-a989-f0402b847998\n"
     ]
    }
   ],
   "source": [
    "result = ! cpdctl asset search --space-id {test_space_id} --query 'asset.name:gcr-scikit-model' --type-name wml_model --raw-output -j 'results[0].metadata.asset_id' --output json\n",
    "test_model_id = result.s\n",
    "print('Model ID: {}'.format(test_model_id))\n",
    "\n",
    "result = ! cpdctl asset search --space-id {test_space_id} --query 'asset.name:evaluate_model' --type-name script --raw-output -j 'results[0].metadata.asset_id' --output json\n",
    "test_script_id = result.s\n",
    "print('Script ID: {}'.format(test_script_id))\n",
    "\n",
    "result = ! cpdctl asset search --space-id {test_space_id} --query 'asset.name:credit_risk_regression*' --type-name data_asset --raw-output -j 'results[0].metadata.asset_id' --output json\n",
    "test_data_asset_id = result.s\n",
    "print('Test data asset ID: {}'.format(test_data_asset_id))"
   ]
  },
  {
   "cell_type": "markdown",
   "metadata": {
    "id": "27ad4126-86a3-4228-89c0-899cc77ee718"
   },
   "source": [
    "### 3.3 Run batch deployment job in the test space<a class=\"anchor\" id=\"part3.3\"></a>"
   ]
  },
  {
   "cell_type": "markdown",
   "metadata": {
    "id": "6b04937a-9cb6-4efd-acb1-d74be382745b"
   },
   "source": [
    "Create the script batch deployment in the QA space:"
   ]
  },
  {
   "cell_type": "code",
   "execution_count": 76,
   "metadata": {
    "id": "b742edcb-ad6c-4ae6-ace9-f9e21ccb5f20",
    "tags": []
   },
   "outputs": [],
   "source": [
    "asset = {\n",
    "    'id': test_script_id\n",
    "}\n",
    "asset_json = json.dumps(asset)\n",
    "\n",
    "hardware_spec = {\n",
    "    'name': 'S'\n",
    "}\n",
    "hardware_spec_json = json.dumps(hardware_spec)\n",
    "\n",
    "batch_json = '{}'\n",
    "\n",
    "deployment_name = 'evaluate_model_batch_deployment'"
   ]
  },
  {
   "cell_type": "code",
   "execution_count": 77,
   "metadata": {
    "id": "e9464113-e84f-4c5d-b2d5-c5845d195b1f",
    "tags": []
   },
   "outputs": [
    {
     "name": "stdout",
     "output_type": "stream",
     "text": [
      "ID of the script batch deployment in test space: a847d548-88e0-4bb8-ac13-c85ac9063fb4\n"
     ]
    }
   ],
   "source": [
    "result = ! cpdctl ml deployment create --space-id {test_space_id} --name '{deployment_name}' --asset '{asset_json}' --hardware-spec '{hardware_spec_json}' --batch '{batch_json}' --output json -j \"metadata.id\" --raw-output\n",
    "test_batch_deployment_id = result.s\n",
    "print(\"ID of the script batch deployment in test space: {}\".format(test_batch_deployment_id))"
   ]
  },
  {
   "cell_type": "markdown",
   "metadata": {
    "id": "f6dbbb21-a4d4-41e5-871c-26be5c78fcbb"
   },
   "source": [
    "Create a deployment job"
   ]
  },
  {
   "cell_type": "code",
   "execution_count": 78,
   "metadata": {
    "id": "427d1006-50b2-440d-80ed-b89adfaadc86",
    "tags": []
   },
   "outputs": [],
   "source": [
    "deployment_job_name = deployment_name + '_job'\n",
    "\n",
    "deployment = {\n",
    "    'id': test_batch_deployment_id\n",
    "}\n",
    "deployment_json = json.dumps(deployment)\n",
    "\n",
    "scoring = {\n",
    "    \"input_data_references\": [\n",
    "      {\n",
    "        \"type\": \"data_asset\",\n",
    "        \"connection\": {},\n",
    "        \"location\": {\n",
    "          \"href\": \"/v2/assets/{}?space_id={}\".format(test_data_asset_id, test_space_id)\n",
    "        }\n",
    "      }\n",
    "    ],\n",
    "    \"output_data_reference\": {\n",
    "      \"type\": \"data_asset\",\n",
    "      \"connection\": {},\n",
    "      \"location\": {\n",
    "        \"name\": \"model_evaluation_results.zip\"\n",
    "      }\n",
    "    }\n",
    "}\n",
    "scoring_json = json.dumps(scoring)"
   ]
  },
  {
   "cell_type": "code",
   "execution_count": 79,
   "metadata": {
    "id": "9a4b3316-2ccc-4d66-af1e-90b0bfa7cd88",
    "tags": []
   },
   "outputs": [
    {
     "name": "stdout",
     "output_type": "stream",
     "text": [
      "ID of the script batch deployment job in test space: 29272d8e-83df-4015-a438-f932f72c9ed6\n"
     ]
    }
   ],
   "source": [
    "result = ! cpdctl ml deployment-job create --space-id {test_space_id} --name '{deployment_job_name}' --deployment '{deployment_json}' --scoring '{scoring_json}' --output json -j \"metadata.id\" --raw-output\n",
    "test_batch_deployment_job_id = result.s\n",
    "print(\"ID of the script batch deployment job in test space: {}\".format(test_batch_deployment_job_id))"
   ]
  },
  {
   "cell_type": "code",
   "execution_count": 80,
   "metadata": {
    "id": "b68a79c0-0a78-4516-a73b-ad59d2fd7212",
    "tags": []
   },
   "outputs": [],
   "source": [
    "result = ! cpdctl ml deployment-job get --space-id {test_space_id} --job-id {test_batch_deployment_job_id} --output json\n",
    "test_batch_deployment_job = json.loads(result.s)\n",
    "test_batch_job_id = test_batch_deployment_job['entity']['platform_job']['job_id']\n",
    "test_batch_run_id = test_batch_deployment_job['entity']['platform_job']['run_id']"
   ]
  },
  {
   "cell_type": "markdown",
   "metadata": {
    "id": "ccf8a597-865a-4e84-9ddd-6e725d5bde38"
   },
   "source": [
    "Wait for job completion"
   ]
  },
  {
   "cell_type": "code",
   "execution_count": 81,
   "metadata": {
    "id": "c16af99b-85af-4672-a2ff-64d137c67597",
    "tags": []
   },
   "outputs": [
    {
     "name": "stdout",
     "output_type": "stream",
     "text": [
      "...\n",
      "\u001b[1m\u001b[0m               \u001b[1m\u001b[0m   \n",
      "\u001b[36;1mID:\u001b[0m            3cf4f93b-836d-4590-88ee-4bbb87f1464b   \n",
      "\u001b[36;1mName:\u001b[0m          job run   \n",
      "\u001b[36;1mCreated:\u001b[0m       2021-08-12T07:24:41Z   \n",
      "\u001b[36;1mDescription:\u001b[0m      \n",
      "\u001b[36;1mState:\u001b[0m         Completed   \n",
      "\u001b[36;1mTags:\u001b[0m          []   \n"
     ]
    }
   ],
   "source": [
    "! cpdctl job run wait --job-id {test_batch_job_id} --run-id {test_batch_run_id} --space-id {test_space_id}"
   ]
  },
  {
   "cell_type": "markdown",
   "metadata": {
    "id": "26f004c6-840e-4070-ba66-c82fb2f50ea0"
   },
   "source": [
    "You can see the batch deployment log:"
   ]
  },
  {
   "cell_type": "code",
   "execution_count": 82,
   "metadata": {
    "id": "30bb5ed4-8a0d-4875-abf4-c60810c6fd64",
    "tags": []
   },
   "outputs": [
    {
     "name": "stdout",
     "output_type": "stream",
     "text": [
      "...\n",
      "{\n",
      "  \"deployment\": {\n",
      "    \"id\": \"a847d548-88e0-4bb8-ac13-c85ac9063fb4\"\n",
      "  },\n",
      "  \"platform_job\": {\n",
      "    \"job_id\": \"4c4e79bd-686d-4aff-a6e7-3c18cc6e9478\",\n",
      "    \"run_id\": \"3cf4f93b-836d-4590-88ee-4bbb87f1464b\"\n",
      "  },\n",
      "  \"scoring\": {\n",
      "    \"input_data_references\": [\n",
      "      {\n",
      "        \"connection\": {},\n",
      "        \"location\": {\n",
      "          \"href\": \"/v2/assets/d709a597-f8d4-4572-a989-f0402b847998?space_id=1c6bbc05-e756-4ba7-9ef7-c45c8aaab827\"\n",
      "        },\n",
      "        \"type\": \"data_asset\"\n",
      "      }\n",
      "    ],\n",
      "    \"output_data_reference\": {\n",
      "      \"connection\": {},\n",
      "      \"location\": {\n",
      "        \"href\": \"/v2/assets/a6ada982-b58d-4266-84bd-f5d428db5d23?space_id=1c6bbc05-e756-4ba7-9ef7-c45c8aaab827\",\n",
      "        \"name\": \"model_evaluation_results.zip\"\n",
      "      },\n",
      "      \"type\": \"data_asset\"\n",
      "    },\n",
      "    \"status\": {\n",
      "      \"completed_at\": \"2021-08-12T07:24:59.947962Z\",\n",
      "      \"running_at\": \"2021-08-12T07:24:58.080822Z\",\n",
      "      \"state\": \"completed\"\n",
      "    }\n",
      "  }\n",
      "}\n",
      "\n"
     ]
    }
   ],
   "source": [
    "! cpdctl job run logs --job-id {test_batch_job_id} --run-id {test_batch_run_id} --space-id {test_space_id}"
   ]
  },
  {
   "cell_type": "code",
   "execution_count": 83,
   "metadata": {
    "id": "1e8422a6-48d2-477b-8e02-9ac51fdb4396",
    "tags": []
   },
   "outputs": [
    {
     "name": "stdout",
     "output_type": "stream",
     "text": [
      "...\n",
      "\u001b[1mID\u001b[0m                                     \u001b[1mName\u001b[0m                           \u001b[1mCreated\u001b[0m                    \u001b[1mDescription\u001b[0m   \u001b[1mType\u001b[0m         \u001b[1mState\u001b[0m       \u001b[1mTags\u001b[0m   \u001b[1mSize\u001b[0m   \n",
      "\u001b[36;1md709a597-f8d4-4572-a989-f0402b847998\u001b[0m   credit_risk_regression.csv     2021-08-12T07:24:17.000Z                 data_asset   available   []     694219   \n",
      "\u001b[36;1ma6ada982-b58d-4266-84bd-f5d428db5d23\u001b[0m   model_evaluation_results.zip   2021-08-12T07:24:59.000Z                 data_asset   available   []     150   \n"
     ]
    }
   ],
   "source": [
    "! cpdctl asset search --space-id {test_space_id} --query '*:*' --type-name data_asset"
   ]
  },
  {
   "cell_type": "code",
   "execution_count": 84,
   "metadata": {
    "id": "765dce8e-cdbe-4364-82e3-04b5a977d149",
    "tags": []
   },
   "outputs": [],
   "source": [
    "results_asset_id = 'a6ada982-b58d-4266-84bd-f5d428db5d23'"
   ]
  },
  {
   "cell_type": "code",
   "execution_count": 85,
   "metadata": {
    "id": "dec0c8c7-68c7-4000-ab87-008efd27da8a",
    "tags": []
   },
   "outputs": [
    {
     "name": "stdout",
     "output_type": "stream",
     "text": [
      "...\n",
      "\u001b[1m\u001b[0m               \u001b[1m\u001b[0m   \n",
      "\u001b[36;1mID:\u001b[0m            a6ada982-b58d-4266-84bd-f5d428db5d23   \n",
      "\u001b[36;1mName:\u001b[0m          model_evaluation_results.zip   \n",
      "\u001b[36;1mCreated:\u001b[0m       2021-08-12T07:24:59.000Z   \n",
      "\u001b[36;1mDescription:\u001b[0m      \n",
      "\u001b[36;1mType:\u001b[0m          data_asset   \n",
      "\u001b[36;1mState:\u001b[0m         available   \n",
      "\u001b[36;1mTags:\u001b[0m          []   \n",
      "\u001b[36;1mSize:\u001b[0m          150   \n",
      "\u001b[36;1mAttachments:\u001b[0m   \u001b[1mID\u001b[0m                                     \u001b[1mName\u001b[0m                           \u001b[1mDescription\u001b[0m   \u001b[1mType\u001b[0m         \u001b[1mMime Type\u001b[0m      \n",
      "\u001b[36;1m\u001b[0m               \u001b[36;1m4603ee02-bb01-4d5e-9b1d-4c46ffde9f20\u001b[0m   model_evaluation_results.zip                 data_asset   application/zip      \n",
      "\u001b[36;1m\u001b[0m                  \n"
     ]
    }
   ],
   "source": [
    "! cpdctl asset get --space-id {test_space_id} --asset-id {results_asset_id}"
   ]
  },
  {
   "cell_type": "code",
   "execution_count": 88,
   "metadata": {
    "id": "379542bc-c576-48a3-a681-8bdd7fa72628",
    "tags": []
   },
   "outputs": [],
   "source": [
    "results_attachment_id = '4603ee02-bb01-4d5e-9b1d-4c46ffde9f20'\n",
    "results_path = 'job_results.zip'"
   ]
  },
  {
   "cell_type": "code",
   "execution_count": 89,
   "metadata": {
    "id": "2ecd3d25-3a63-4054-a99d-3ae4366b0d22",
    "tags": []
   },
   "outputs": [
    {
     "name": "stdout",
     "output_type": "stream",
     "text": [
      "...\n",
      "\u001b[32;1mOK\u001b[0m\n",
      "Output written to job_results.zip\n"
     ]
    }
   ],
   "source": [
    "! cpdctl asset attachment download --space-id {test_space_id} --asset-id {results_asset_id} --attachment-id {results_attachment_id} --output-path {results_path}"
   ]
  },
  {
   "cell_type": "code",
   "execution_count": 90,
   "metadata": {
    "id": "96ccda95-5a6a-4095-a84d-9779e4fdb9eb",
    "tags": []
   },
   "outputs": [
    {
     "name": "stdout",
     "output_type": "stream",
     "text": [
      "Model validation succeeded!\n"
     ]
    }
   ],
   "source": [
    "! unzip -p {results_path} results.txt"
   ]
  },
  {
   "cell_type": "markdown",
   "metadata": {
    "id": "9e7fc5be-6552-4651-810b-37d9004225c1"
   },
   "source": [
    "Clean and delete the test space"
   ]
  },
  {
   "cell_type": "code",
   "execution_count": 91,
   "metadata": {
    "id": "cbaa0b34-85b9-4a0e-a7ee-e3e44e0cd8a6",
    "tags": []
   },
   "outputs": [
    {
     "name": "stdout",
     "output_type": "stream",
     "text": [
      "...\n",
      "\u001b[32;1mOK\u001b[0m\n",
      "...\n",
      "\u001b[32;1mOK\u001b[0m\n",
      "...\n",
      "\u001b[32;1mOK\u001b[0m\n"
     ]
    }
   ],
   "source": [
    "! cpdctl ml deployment-job delete --space-id {test_space_id} --job-id {test_batch_deployment_job_id} || echo 'Skipped'\n",
    "! cpdctl ml deployment delete --space-id {test_space_id} --deployment-id {test_batch_deployment_id} || echo 'Skipped'\n",
    "! cpdctl space delete --space-id {test_space_id}"
   ]
  },
  {
   "cell_type": "markdown",
   "metadata": {
    "id": "85cdca76-457a-48ad-9bbe-a34cde1acd6e"
   },
   "source": [
    "## 4. Demo 3: Update assets in the production space <a class=\"anchor\" id=\"part4\"></a>"
   ]
  },
  {
   "cell_type": "markdown",
   "metadata": {
    "id": "8ac62264-d7b5-48d1-9606-960d647f74fd"
   },
   "source": [
    "Before starting with this section, please ensure that you have run the cells in all previous sections: [Section 1](#part1), [Section 2](#part2) and [Section 3](#part3)."
   ]
  },
  {
   "cell_type": "markdown",
   "metadata": {
    "id": "516c905c-28a6-4866-ba5d-d7e232eb6cc2"
   },
   "source": [
    "<img width=\"700px\" align=\"center\"  src=\"data:image/svg+xml;base64,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\">"
   ]
  },
  {
   "cell_type": "markdown",
   "metadata": {
    "id": "2c106239-65be-4951-97ce-fd02b33c93ed"
   },
   "source": [
    "### 4.1 Import new asset versions to the production space <a class=\"anchor\" id=\"part4.1\"></a>"
   ]
  },
  {
   "cell_type": "markdown",
   "metadata": {
    "id": "f3b717bd-59f6-466d-bcff-bf9ec3a3e778"
   },
   "source": [
    "Get production space ID"
   ]
  },
  {
   "cell_type": "code",
   "execution_count": 92,
   "metadata": {
    "id": "a3bda492-14a4-40ec-a181-185f7b8fd616",
    "tags": []
   },
   "outputs": [
    {
     "name": "stdout",
     "output_type": "stream",
     "text": [
      "...\n",
      "\u001b[1mID\u001b[0m                                     \u001b[1mName\u001b[0m                      \u001b[1mCreated\u001b[0m                    \u001b[1mDescription\u001b[0m   \u001b[1mState\u001b[0m    \u001b[1mTags\u001b[0m   \n",
      "\u001b[36;1m9001e03a-e3b9-4ddf-88db-063651d735b4\u001b[0m   qa-space                  2021-06-21T11:11:22.988Z                 active   []   \n",
      "\u001b[36;1m715f068a-a8c8-4093-a7f2-15ab111c21e5\u001b[0m   prod-space                2021-06-21T11:12:12.958Z                 active   []   \n",
      "\u001b[36;1ma72bfe88-5fc9-4323-90ad-53d94511d120\u001b[0m   fvt-space                 2021-06-28T12:50:33.447Z                 active   []   \n",
      "\u001b[36;1mcdd90e91-792c-4834-a26a-ac979b998fd8\u001b[0m   export-space              2021-07-09T12:02:55.754Z                 active   []   \n",
      "\u001b[36;1mbe32f9b8-702f-444e-9902-754464f39853\u001b[0m   jm-space                  2021-07-15T10:40:36.849Z                 active   []   \n",
      "\u001b[36;1m6237d988-c98f-4f70-acc4-c68f34329105\u001b[0m   test-space-cli-eb43d624   2021-07-22T07:49:54.127Z                 active   []   \n",
      "\u001b[36;1mdd383706-f430-4b1a-8ac8-36084fb821f6\u001b[0m   test-export               2021-07-28T17:12:57.575Z                 active   []   \n",
      "\u001b[36;1m48742238-a5c4-41a6-aaef-fad673989698\u001b[0m   test-export2              2021-07-28T19:01:02.963Z                 active   []   \n",
      "\u001b[36;1mcabc9c63-1260-4f71-98f5-89652740fd0c\u001b[0m   fvt-non-empty-space       2021-07-30T06:52:05.521Z                 active   []   \n",
      "\u001b[36;1m3fc77ff4-e188-4897-89f6-33ebb83bf2e1\u001b[0m   fvt-non-empty-space-22    2021-07-30T07:26:42.248Z                 active   []   \n",
      "\u001b[36;1m11d37d5d-f15c-4c53-a4c8-778d25eb8e24\u001b[0m   fvt-non-empty-space-33    2021-07-30T07:49:02.536Z                 active   []   \n",
      "\u001b[36;1mdd8b17a3-1ef6-42f1-96c9-4143c5392ba1\u001b[0m   f (1)                     2021-07-30T12:21:24.453Z                 active   []   \n",
      "\u001b[36;1mdf6c5538-652e-4b90-82c6-892112928d09\u001b[0m   hk                        2021-07-30T12:23:59.555Z                 active   []   \n",
      "\u001b[36;1m857dd20d-784d-4269-aa84-b2be8029f7c6\u001b[0m   non-empty-space-444       2021-08-03T06:29:13.017Z                 active   []   \n",
      "\u001b[36;1m53a36702-770d-4b98-b85a-57622bb7cea5\u001b[0m   x                         2021-08-03T10:39:19.899Z                 active   []   \n",
      "\u001b[36;1mbf3d89b8-3ad3-4b6c-8775-0eb345ef3d87\u001b[0m   response                  2021-08-05T09:20:21.880Z                 active   []   \n",
      "\u001b[36;1m48de138b-afe8-480c-87c3-34f9a9dc1892\u001b[0m   dev-space                 2021-08-05T11:13:09.045Z                 active   []   \n",
      "\u001b[36;1m8cb2bb27-94d4-4060-a6e2-4c995b575b5e\u001b[0m   space1                    2021-08-06T00:42:19.802Z                 active   []   \n",
      "\u001b[36;1m7017063d-f59c-4999-97c4-e5aa307014c5\u001b[0m   export1                   2021-08-06T08:49:04.249Z                 active   []   \n",
      "\u001b[36;1m2115b972-b21c-4189-86d2-cadac9b32f73\u001b[0m   sefsd                     2021-08-06T15:39:28.406Z                 active   []   \n",
      "\u001b[36;1mad234d0d-1991-4655-bef0-23542131789d\u001b[0m   cpdctl-demo-space         2021-08-11T13:33:35.442Z                 active   []   \n",
      "\u001b[36;1m799c19dc-0b44-4a28-8060-51c513806398\u001b[0m   cpdctl-demo-qa-space      2021-08-11T13:45:09.538Z                 active   []   \n"
     ]
    }
   ],
   "source": [
    "! cpdctl space list"
   ]
  },
  {
   "cell_type": "code",
   "execution_count": 29,
   "metadata": {
    "id": "7d9cbcca-f6f9-46ae-a867-2754060bcfc2",
    "tags": []
   },
   "outputs": [],
   "source": [
    "prod_space_id = '715f068a-a8c8-4093-a7f2-15ab111c21e5'"
   ]
  },
  {
   "cell_type": "code",
   "execution_count": 62,
   "metadata": {
    "id": "1d093200-1de1-4b07-8f61-e0720cd50b09",
    "tags": []
   },
   "outputs": [
    {
     "name": "stdout",
     "output_type": "stream",
     "text": [
      "...\n",
      "\u001b[1mID\u001b[0m                                     \u001b[1mName\u001b[0m                                                 \u001b[1mCreated\u001b[0m                    \u001b[1mDescription\u001b[0m   \u001b[1mType\u001b[0m                            \u001b[1mState\u001b[0m       \u001b[1mTags\u001b[0m   \u001b[1mSize\u001b[0m   \n",
      "\u001b[36;1me3bd4025-7402-496f-aa27-65f7d4c7b940\u001b[0m   evaluate_model_deployment_job                        2021-08-05T14:33:56.000Z                 wml_deployment_job_definition   available   []     0   \n",
      "\u001b[36;1m4d764f9f-907d-44f9-b9cc-5ecfb52d020c\u001b[0m   gcr-scikit-model-batch-deployment-job                2021-08-12T07:52:42.000Z                 wml_deployment_job_definition   available   []     0   \n",
      "\u001b[36;1m2f4913e3-5e95-4c5a-acdd-4f5a3944c1d8\u001b[0m   default job - 2a8b572d-a05f-41f7-8760-ace31058d812   2021-08-16T13:23:34.000Z                 job                             available   []     0   \n",
      "\u001b[36;1m31837c3a-ee27-4304-8ec0-08db76ff0c18\u001b[0m   evaluate_model_deployment_job                        2021-08-16T13:24:48.000Z                 wml_deployment_job_definition   available   []     0   \n",
      "\u001b[36;1m21604932-7886-473e-9ca2-a40178bbbaf0\u001b[0m   model_evaluation_results.zip                         2021-08-16T13:25:10.000Z                 data_asset                      available   []     150   \n",
      "\u001b[36;1m3a9df207-58b0-4311-b96b-6e85c36d668d\u001b[0m   credit_risk_regression.csv                           2021-08-05T14:03:45.000Z                 data_asset                      available   []     694219   \n",
      "\u001b[36;1mfbbb6362-a6d7-4806-9fa3-34e90b0be566\u001b[0m   gcr-scikit-model                                     2021-08-06T16:27:07.000Z                 wml_model                       available   []     0   \n",
      "\u001b[36;1me49ff833-efbc-44d8-9dfb-6646bc44164f\u001b[0m   evaluate_model_deployment_job                        2021-08-16T13:39:34.000Z                 wml_deployment_job_definition   available   []     0   \n",
      "\u001b[36;1me1438649-a1d4-4475-bc82-42ff277cb8d4\u001b[0m   evaluate_model                                       2021-08-16T13:20:56.000Z                 script                          available   []     233   \n",
      "\u001b[36;1m83e79f30-3500-4d2e-86e7-d05cd03918d6\u001b[0m   default job - 84961f48-b0b5-4f84-8e07-60b7b6ddab6e   2021-08-16T13:37:57.000Z                 job                             available   []     0   \n",
      "\u001b[36;1mc51acdf0-f817-4f3b-b52d-9d7eee5ecb68\u001b[0m   default job - gcr-scikit-model-batch-deployment      2021-08-12T07:51:23.000Z                 job                             available   []     0   \n",
      "\u001b[36;1m8e6fee58-a0c2-4f55-a23d-4cc763a3a6af\u001b[0m   gcr-scikit-model-batch-deployment-job                2021-08-12T07:52:43.000Z                 job                             available   []     0   \n",
      "\u001b[36;1m665b45dc-1519-4b75-9280-d8a8c8e1688a\u001b[0m   default job - evaluate_model_deployment              2021-08-05T14:16:41.000Z                 job                             available   []     0   \n",
      "\u001b[36;1m3e6b55dd-ba62-4a7d-8cee-400d74b44d43\u001b[0m   job run                                              2021-08-12T07:52:45.000Z                 job_run                         available   []     0   \n",
      "\u001b[36;1me6aab593-09a9-4f97-97fc-f2e8919c1697\u001b[0m   model_evaluation_results.zip                         2021-08-16T13:30:13.000Z                 data_asset                      available   []     150   \n",
      "\u001b[36;1m6448850d-1593-464a-b37a-b192655fbc87\u001b[0m   evaluate_model_deployment_job                        2021-08-16T13:39:35.000Z                 job                             available   []     0   \n",
      "\u001b[36;1mb8b493eb-9423-4852-8375-d17a562eb1fa\u001b[0m   job run                                              2021-08-16T13:39:36.000Z                 job_run                         available   []     0   \n"
     ]
    }
   ],
   "source": [
    "! cpdctl asset search --space-id {prod_space_id} --query '*:*' --type-name asset"
   ]
  },
  {
   "cell_type": "code",
   "execution_count": 60,
   "metadata": {
    "id": "6730ddcd-b34b-4260-8692-aec36e88fff7",
    "tags": []
   },
   "outputs": [
    {
     "name": "stdout",
     "output_type": "stream",
     "text": [
      "...\n",
      "\u001b[1m\u001b[0m           \u001b[1m\u001b[0m   \n",
      "\u001b[36;1mID:\u001b[0m        796abb00-57e5-4cda-9e06-3079238bd441   \n",
      "\u001b[36;1mCreated:\u001b[0m   2021-08-16T13:37:01.536Z   \n",
      "\u001b[36;1mState:\u001b[0m     completed   \n"
     ]
    }
   ],
   "source": [
    "! cpdctl asset import start --space-id {prod_space_id} --import-file {dev_space_archive_path}"
   ]
  },
  {
   "cell_type": "markdown",
   "metadata": {
    "id": "c5915341-7935-41cb-949a-8bccf38ae96b"
   },
   "source": [
    "### 4.2 Updating the existing model deployment<a class=\"anchor\" id=\"part4.2\"></a>"
   ]
  },
  {
   "cell_type": "code",
   "execution_count": 61,
   "metadata": {
    "id": "81d7350f-3304-46a9-9afb-ddd853fd46c4",
    "tags": []
   },
   "outputs": [
    {
     "name": "stdout",
     "output_type": "stream",
     "text": [
      "...\n",
      "\u001b[1mID\u001b[0m                                     \u001b[1mName\u001b[0m                                                 \u001b[1mCreated\u001b[0m                    \u001b[1mDescription\u001b[0m   \u001b[1mType\u001b[0m                            \u001b[1mState\u001b[0m       \u001b[1mTags\u001b[0m   \u001b[1mSize\u001b[0m   \n",
      "\u001b[36;1m665b45dc-1519-4b75-9280-d8a8c8e1688a\u001b[0m   default job - evaluate_model_deployment              2021-08-05T14:16:41.000Z                 job                             available   []     0   \n",
      "\u001b[36;1mc51acdf0-f817-4f3b-b52d-9d7eee5ecb68\u001b[0m   default job - gcr-scikit-model-batch-deployment      2021-08-12T07:51:23.000Z                 job                             available   []     0   \n",
      "\u001b[36;1m8e6fee58-a0c2-4f55-a23d-4cc763a3a6af\u001b[0m   gcr-scikit-model-batch-deployment-job                2021-08-12T07:52:43.000Z                 job                             available   []     0   \n",
      "\u001b[36;1m3e6b55dd-ba62-4a7d-8cee-400d74b44d43\u001b[0m   job run                                              2021-08-12T07:52:45.000Z                 job_run                         available   []     0   \n",
      "\u001b[36;1mfb10ee17-f047-4bcc-bfd9-574e22947f0d\u001b[0m   evaluate_model_deployment_job                        2021-08-16T13:24:50.000Z                 job                             available   []     0   \n",
      "\u001b[36;1me6aab593-09a9-4f97-97fc-f2e8919c1697\u001b[0m   model_evaluation_results.zip                         2021-08-16T13:30:13.000Z                 data_asset                      available   []     150   \n",
      "\u001b[36;1me1438649-a1d4-4475-bc82-42ff277cb8d4\u001b[0m   evaluate_model                                       2021-08-16T13:20:56.000Z                 script                          available   []     233   \n",
      "\u001b[36;1me3bd4025-7402-496f-aa27-65f7d4c7b940\u001b[0m   evaluate_model_deployment_job                        2021-08-05T14:33:56.000Z                 wml_deployment_job_definition   available   []     0   \n",
      "\u001b[36;1m4d764f9f-907d-44f9-b9cc-5ecfb52d020c\u001b[0m   gcr-scikit-model-batch-deployment-job                2021-08-12T07:52:42.000Z                 wml_deployment_job_definition   available   []     0   \n",
      "\u001b[36;1m2f4913e3-5e95-4c5a-acdd-4f5a3944c1d8\u001b[0m   default job - 2a8b572d-a05f-41f7-8760-ace31058d812   2021-08-16T13:23:34.000Z                 job                             available   []     0   \n",
      "\u001b[36;1m31837c3a-ee27-4304-8ec0-08db76ff0c18\u001b[0m   evaluate_model_deployment_job                        2021-08-16T13:24:48.000Z                 wml_deployment_job_definition   available   []     0   \n",
      "\u001b[36;1m21604932-7886-473e-9ca2-a40178bbbaf0\u001b[0m   model_evaluation_results.zip                         2021-08-16T13:25:10.000Z                 data_asset                      available   []     150   \n",
      "\u001b[36;1m1a7cc4c3-0428-4719-ab5b-5245cbb1baef\u001b[0m   job run                                              2021-08-16T13:24:52.000Z                 job_run                         available   []     0   \n",
      "\u001b[36;1m909820cc-7838-4b3c-b892-f9d145b41bf0\u001b[0m   job run                                              2021-08-16T13:29:55.000Z                 job_run                         available   []     0   \n",
      "\u001b[36;1m3a9df207-58b0-4311-b96b-6e85c36d668d\u001b[0m   credit_risk_regression.csv                           2021-08-05T14:03:45.000Z                 data_asset                      available   []     694219   \n",
      "\u001b[36;1mfbbb6362-a6d7-4806-9fa3-34e90b0be566\u001b[0m   gcr-scikit-model                                     2021-08-06T16:27:07.000Z                 wml_model                       available   []     0   \n"
     ]
    }
   ],
   "source": [
    "! cpdctl asset search --space-id {prod_space_id} --query '*:*' --type-name asset"
   ]
  },
  {
   "cell_type": "code",
   "execution_count": 63,
   "metadata": {
    "id": "7bf1edf6-cb36-49bf-b24e-6c9c3d7501a5",
    "tags": []
   },
   "outputs": [],
   "source": [
    "prod_model_id = 'fbbb6362-a6d7-4806-9fa3-34e90b0be566'"
   ]
  },
  {
   "cell_type": "code",
   "execution_count": 35,
   "metadata": {
    "id": "1d4ae12d-7afa-4d1b-afda-2cf80aefdb09",
    "tags": []
   },
   "outputs": [
    {
     "name": "stdout",
     "output_type": "stream",
     "text": [
      "...\n",
      "\u001b[1mID\u001b[0m                                     \u001b[1mName\u001b[0m               \u001b[1mCreated\u001b[0m                    \u001b[1mRevision\u001b[0m   \u001b[1mTags\u001b[0m   \n",
      "\u001b[36;1mfbbb6362-a6d7-4806-9fa3-34e90b0be566\u001b[0m   gcr-scikit-model   2021-08-06T16:27:07.748Z   4          []   \n",
      "\u001b[36;1mfbbb6362-a6d7-4806-9fa3-34e90b0be566\u001b[0m   gcr-scikit-model   2021-08-06T16:27:07.748Z   3          []   \n",
      "\u001b[36;1mfbbb6362-a6d7-4806-9fa3-34e90b0be566\u001b[0m   gcr-scikit-model   2021-08-06T16:27:07.748Z   2          []   \n",
      "\u001b[36;1mfbbb6362-a6d7-4806-9fa3-34e90b0be566\u001b[0m   gcr-scikit-model   2021-08-06T16:27:07.748Z   1          []   \n"
     ]
    }
   ],
   "source": [
    "! cpdctl ml model list-revisions --space-id {prod_space_id} --model-id {prod_model_id}"
   ]
  },
  {
   "cell_type": "markdown",
   "metadata": {
    "id": "3cd9a818-4de7-4c3d-9c74-03a96df64721",
    "tags": []
   },
   "source": [
    "While waiting for fix for the issue [#2075](https://github.ibm.com/AILifecycle/tracker/issues/2075) in `cpdctl` the revision creation date is invalid (it is the model creation time)."
   ]
  },
  {
   "cell_type": "code",
   "execution_count": 36,
   "metadata": {
    "id": "3fac7516-38f4-4ff6-80c6-e6322c4a830a",
    "tags": []
   },
   "outputs": [],
   "source": [
    "prod_model_rev = \"4\""
   ]
  },
  {
   "cell_type": "code",
   "execution_count": 37,
   "metadata": {
    "id": "950ee64f-9d12-4726-a8e5-d6c8275175e0",
    "tags": []
   },
   "outputs": [
    {
     "name": "stdout",
     "output_type": "stream",
     "text": [
      "...\n",
      "\u001b[1mID\u001b[0m                                     \u001b[1mName\u001b[0m                                \u001b[1mCreated\u001b[0m                    \u001b[1mState\u001b[0m   \u001b[1mTags\u001b[0m   \n",
      "\u001b[36;1mac34fbb1-6349-4347-b9cd-bf2d9daaccb3\u001b[0m   gcr-scikit-model-batch-deployment   2021-08-12T07:51:22.061Z   ready   []   \n"
     ]
    }
   ],
   "source": [
    " ! cpdctl ml deployment list --space-id {prod_space_id}"
   ]
  },
  {
   "cell_type": "code",
   "execution_count": 38,
   "metadata": {
    "id": "49ab81bb-1ed9-4613-9871-134738acb0bd",
    "tags": []
   },
   "outputs": [],
   "source": [
    "prod_model_batch_deployment_id = 'ac34fbb1-6349-4347-b9cd-bf2d9daaccb3'"
   ]
  },
  {
   "cell_type": "code",
   "execution_count": 39,
   "metadata": {
    "id": "e8cee476-328f-4a14-a8f6-b694aa8a59c5",
    "tags": []
   },
   "outputs": [
    {
     "name": "stdout",
     "output_type": "stream",
     "text": [
      "Deployed model revision:\n",
      "{\n",
      "  \"id\": \"fbbb6362-a6d7-4806-9fa3-34e90b0be566\",\n",
      "  \"rev\": \"3\"\n",
      "}\n"
     ]
    }
   ],
   "source": [
    "print('Deployed model revision:')\n",
    "! cpdctl ml deployment get --space-id {prod_space_id} --deployment-id {prod_model_batch_deployment_id} --output json -j 'entity.asset'"
   ]
  },
  {
   "cell_type": "markdown",
   "metadata": {
    "id": "f5109be1-c131-45e0-bddb-86a40fbfe60b"
   },
   "source": [
    "Patch the batch deployment to use the latest revision"
   ]
  },
  {
   "cell_type": "code",
   "execution_count": 40,
   "metadata": {
    "id": "52d5cda8-be15-43c0-a2e0-b53705e59784",
    "tags": []
   },
   "outputs": [
    {
     "name": "stdout",
     "output_type": "stream",
     "text": [
      "...\n",
      "\u001b[1m\u001b[0m           \u001b[1m\u001b[0m   \n",
      "\u001b[36;1mID:\u001b[0m        ac34fbb1-6349-4347-b9cd-bf2d9daaccb3   \n",
      "\u001b[36;1mName:\u001b[0m      gcr-scikit-model-batch-deployment   \n",
      "\u001b[36;1mCreated:\u001b[0m   2021-08-12T07:51:22.061Z   \n",
      "\u001b[36;1mState:\u001b[0m     ready   \n",
      "\u001b[36;1mTags:\u001b[0m      []   \n"
     ]
    }
   ],
   "source": [
    "asset = {\n",
    "  \"id\": prod_model_id,\n",
    "  \"rev\": prod_model_rev\n",
    "}\n",
    "asset_json = json.dumps(asset)\n",
    "\n",
    "! cpdctl ml deployment update --space-id {prod_space_id} --deployment-id {prod_model_batch_deployment_id} --asset '{asset_json}'"
   ]
  },
  {
   "cell_type": "code",
   "execution_count": 41,
   "metadata": {
    "id": "5beea331-0c51-4fa1-be39-45d4b09bac07",
    "tags": []
   },
   "outputs": [
    {
     "name": "stdout",
     "output_type": "stream",
     "text": [
      "Updated deployed model revision:\n",
      "{\n",
      "  \"id\": \"fbbb6362-a6d7-4806-9fa3-34e90b0be566\",\n",
      "  \"rev\": \"4\"\n",
      "}\n"
     ]
    }
   ],
   "source": [
    "print('Updated deployed model revision:')\n",
    "! cpdctl ml deployment get --space-id {prod_space_id} --deployment-id {prod_model_batch_deployment_id} --output json -j 'entity.asset'"
   ]
  },
  {
   "cell_type": "markdown",
   "metadata": {
    "id": "6b59e391-6dc2-4f8a-8408-725553e6491f"
   },
   "source": [
    "### 4.3 Run production model deployment validation<a class=\"anchor\" id=\"part4.3\"></a>"
   ]
  },
  {
   "cell_type": "code",
   "execution_count": 44,
   "metadata": {
    "id": "04c73c3f-0e32-4fc1-98f2-5c84c3338ee0",
    "tags": []
   },
   "outputs": [
    {
     "name": "stdout",
     "output_type": "stream",
     "text": [
      "...\n",
      "\u001b[1mID\u001b[0m                                     \u001b[1mName\u001b[0m             \u001b[1mCreated\u001b[0m                    \u001b[1mDescription\u001b[0m   \u001b[1mType\u001b[0m     \u001b[1mState\u001b[0m       \u001b[1mTags\u001b[0m   \u001b[1mSize\u001b[0m   \n",
      "\u001b[36;1me1438649-a1d4-4475-bc82-42ff277cb8d4\u001b[0m   evaluate_model   2021-08-16T13:20:56.000Z                 script   available   []     233   \n"
     ]
    }
   ],
   "source": [
    "! cpdctl asset search --space-id {prod_space_id} --query '*:*' --type-name script"
   ]
  },
  {
   "cell_type": "code",
   "execution_count": 45,
   "metadata": {
    "id": "78f55964-ed05-45c3-81d2-127554203a85",
    "tags": []
   },
   "outputs": [],
   "source": [
    "prod_evaluation_script_id = 'e1438649-a1d4-4475-bc82-42ff277cb8d4'"
   ]
  },
  {
   "cell_type": "code",
   "execution_count": 64,
   "metadata": {
    "id": "6b6c6c3b-61cd-40f0-ae25-e09a61426bd1",
    "tags": []
   },
   "outputs": [
    {
     "name": "stdout",
     "output_type": "stream",
     "text": [
      "...\n",
      "\u001b[1mID\u001b[0m                                     \u001b[1mName\u001b[0m                                                 \u001b[1mDescription\u001b[0m   \u001b[1mTags\u001b[0m   \u001b[1mVersion\u001b[0m   \n",
      "\u001b[36;1m6448850d-1593-464a-b37a-b192655fbc87\u001b[0m   evaluate_model_deployment_job                                      []     0   \n",
      "\u001b[36;1m83e79f30-3500-4d2e-86e7-d05cd03918d6\u001b[0m   default job - 84961f48-b0b5-4f84-8e07-60b7b6ddab6e                 []     0   \n",
      "\u001b[36;1m2f4913e3-5e95-4c5a-acdd-4f5a3944c1d8\u001b[0m   default job - 2a8b572d-a05f-41f7-8760-ace31058d812                 []     0   \n",
      "\u001b[36;1m8e6fee58-a0c2-4f55-a23d-4cc763a3a6af\u001b[0m   gcr-scikit-model-batch-deployment-job                              []     0   \n",
      "\u001b[36;1mc51acdf0-f817-4f3b-b52d-9d7eee5ecb68\u001b[0m   default job - gcr-scikit-model-batch-deployment                    []     0   \n",
      "\u001b[36;1m665b45dc-1519-4b75-9280-d8a8c8e1688a\u001b[0m   default job - evaluate_model_deployment                            []     0   \n"
     ]
    }
   ],
   "source": [
    "! cpdctl job list --space-id {prod_space_id}"
   ]
  },
  {
   "cell_type": "code",
   "execution_count": 65,
   "metadata": {
    "id": "1ca12b99-1123-41bf-9dfe-44a782e55c53",
    "tags": []
   },
   "outputs": [],
   "source": [
    "evaluate_model_job_id = '6448850d-1593-464a-b37a-b192655fbc87'"
   ]
  },
  {
   "cell_type": "code",
   "execution_count": 66,
   "metadata": {
    "id": "5ec09848-e771-444a-ae8f-5f1a4f4f3d2c",
    "tags": []
   },
   "outputs": [
    {
     "name": "stdout",
     "output_type": "stream",
     "text": [
      "...\n",
      "{\n",
      "  \"deployment\": {\n",
      "    \"id\": \"84961f48-b0b5-4f84-8e07-60b7b6ddab6e\"\n",
      "  },\n",
      "  \"hardware_spec\": {\n",
      "    \"id\": \"f3ebac7d-0a75-410c-8b48-a931428cc4c5\"\n",
      "  },\n",
      "  \"platform_job\": {\n",
      "    \"job_id\": \"6448850d-1593-464a-b37a-b192655fbc87\",\n",
      "    \"run_id\": \"cf5065b7-21e7-4bb9-9f40-10c34fb0bb76\"\n",
      "  },\n",
      "  \"scoring\": {\n",
      "    \"input_data_references\": [\n",
      "      {\n",
      "        \"connection\": {},\n",
      "        \"location\": {\n",
      "          \"href\": \"/v2/assets/3a9df207-58b0-4311-b96b-6e85c36d668d?space_id=715f068a-a8c8-4093-a7f2-15ab111c21e5\"\n",
      "        },\n",
      "        \"type\": \"data_asset\"\n",
      "      }\n",
      "    ],\n",
      "    \"output_data_reference\": {\n",
      "      \"connection\": {},\n",
      "      \"location\": {\n",
      "        \"href\": \"/v2/assets/e6aab593-09a9-4f97-97fc-f2e8919c1697?space_id=715f068a-a8c8-4093-a7f2-15ab111c21e5\"\n",
      "      },\n",
      "      \"type\": \"data_asset\"\n",
      "    },\n",
      "    \"status\": {\n",
      "      \"completed_at\": \"2021-08-16T13:41:15.132743Z\",\n",
      "      \"failure\": {\n",
      "        \"trace\": \"709c75ef840ef018730c66f77da44c27\",\n",
      "        \"errors\": [\n",
      "          {\n",
      "            \"code\": \"invalid_input_data\",\n",
      "            \"message\": \"Received local data asset as output for batch job. Only a connected data asset must be specified as output for jobs. Users can specify \\\"name\\\" and \\\"description\\\" for output to save the batch job output as a new local asset. If you are using the REST APIs or the Python client, output_data_references.location.href parameter of jobs payload should only contain a href of the connected-data (remote data asset)\"\n",
      "          }\n",
      "        ]\n",
      "      },\n",
      "      \"running_at\": \"2021-08-16T13:41:14.378981Z\",\n",
      "      \"state\": \"failed\"\n",
      "    }\n",
      "  }\n",
      "}\n",
      "\u001b[31;1mFAILED\u001b[0m\n",
      "\n",
      "\n",
      "\u001b[1m\u001b[0m               \u001b[1m\u001b[0m   \n",
      "\u001b[36;1mID:\u001b[0m            cf5065b7-21e7-4bb9-9f40-10c34fb0bb76   \n",
      "\u001b[36;1mName:\u001b[0m          job run   \n",
      "\u001b[36;1mCreated:\u001b[0m       2021-08-16T13:40:56Z   \n",
      "\u001b[36;1mDescription:\u001b[0m      \n",
      "\u001b[36;1mState:\u001b[0m         Failed   \n",
      "\u001b[36;1mTags:\u001b[0m          []   \n"
     ]
    }
   ],
   "source": [
    "run_json = json.dumps({})\n",
    "! cpdctl job run create --space-id {prod_space_id} --job-id {evaluate_model_job_id} --job-run '{run_json}'"
   ]
  },
  {
   "cell_type": "code",
   "execution_count": 67,
   "metadata": {
    "id": "46c5cdc3-f72a-4e24-afb4-767e1dc9b2ff",
    "tags": []
   },
   "outputs": [],
   "source": [
    "results_asset_id = 'e6aab593-09a9-4f97-97fc-f2e8919c1697'"
   ]
  },
  {
   "cell_type": "code",
   "execution_count": 68,
   "metadata": {
    "id": "8b96f1cd-38d5-4aca-9a6d-ea1ec280465d",
    "tags": []
   },
   "outputs": [
    {
     "name": "stdout",
     "output_type": "stream",
     "text": [
      "...\n",
      "\u001b[1m\u001b[0m               \u001b[1m\u001b[0m   \n",
      "\u001b[36;1mID:\u001b[0m            e6aab593-09a9-4f97-97fc-f2e8919c1697   \n",
      "\u001b[36;1mName:\u001b[0m          model_evaluation_results.zip   \n",
      "\u001b[36;1mCreated:\u001b[0m       2021-08-16T13:30:13.000Z   \n",
      "\u001b[36;1mDescription:\u001b[0m      \n",
      "\u001b[36;1mType:\u001b[0m          data_asset   \n",
      "\u001b[36;1mState:\u001b[0m         available   \n",
      "\u001b[36;1mTags:\u001b[0m          []   \n",
      "\u001b[36;1mSize:\u001b[0m          150   \n",
      "\u001b[36;1mAttachments:\u001b[0m   \u001b[1mID\u001b[0m                                     \u001b[1mName\u001b[0m                           \u001b[1mDescription\u001b[0m   \u001b[1mType\u001b[0m         \u001b[1mMime Type\u001b[0m      \n",
      "\u001b[36;1m\u001b[0m               \u001b[36;1m3c12bd8a-789c-4db5-866f-85a0d1ed6ca5\u001b[0m   model_evaluation_results.zip                 data_asset   application/zip      \n",
      "\u001b[36;1m\u001b[0m                  \n"
     ]
    }
   ],
   "source": [
    "! cpdctl asset get --space-id {prod_space_id} --asset-id {results_asset_id}"
   ]
  },
  {
   "cell_type": "code",
   "execution_count": 69,
   "metadata": {
    "id": "08afc286-a5cf-4805-866c-fdcc38970310",
    "tags": []
   },
   "outputs": [],
   "source": [
    "results_attachment_id = '3c12bd8a-789c-4db5-866f-85a0d1ed6ca5'\n",
    "results_path = 'prod_job_results.zip'"
   ]
  },
  {
   "cell_type": "code",
   "execution_count": 70,
   "metadata": {
    "id": "604b37a1-7f29-45bd-afdb-ea99929a8b95",
    "tags": []
   },
   "outputs": [
    {
     "name": "stdout",
     "output_type": "stream",
     "text": [
      "...\n",
      "\u001b[32;1mOK\u001b[0m\n",
      "Output written to prod_job_results.zip\n"
     ]
    }
   ],
   "source": [
    "! cpdctl asset attachment download --space-id {prod_space_id} --asset-id {results_asset_id} --attachment-id {results_attachment_id} --output-path {results_path}"
   ]
  },
  {
   "cell_type": "code",
   "execution_count": 71,
   "metadata": {
    "id": "f279144a-2d82-413a-8be2-9e3eed060621",
    "tags": []
   },
   "outputs": [
    {
     "name": "stdout",
     "output_type": "stream",
     "text": [
      "Model validation succeeded!\n"
     ]
    }
   ],
   "source": [
    "! unzip -p {results_path} results.txt"
   ]
  },
  {
   "cell_type": "markdown",
   "metadata": {
    "id": "c56627d9-f962-4c79-9099-15857b824601"
   },
   "source": [
    "Update the **existing** script batch deployment in the production space:"
   ]
  },
  {
   "cell_type": "code",
   "execution_count": 118,
   "metadata": {
    "id": "2768b5f5-03ff-444b-8a6e-bf1ae9996f17",
    "tags": []
   },
   "outputs": [
    {
     "name": "stdout",
     "output_type": "stream",
     "text": [
      "Existing production deployment ID: b15e8216-f362-4e58-9d93-5c18a128c68d\n"
     ]
    }
   ],
   "source": [
    "deployment_name = 'evaluate_model_deployment'\n",
    "jmes_query = 'resources[0].metadata.id'\n",
    "result = ! cpdctl ml deployment list --space-id {prod_space_id} --name {deployment_name} --output json --jmes-query '{jmes_query}' --raw-output\n",
    "prod_deployment_id = result.s\n",
    "print('Existing production deployment ID: {}'.format(prod_deployment_id))"
   ]
  },
  {
   "cell_type": "markdown",
   "metadata": {
    "id": "a1263231-47ec-4ae4-bc17-a34b2ca65663"
   },
   "source": [
    "Update the deployed asset with the newly created script"
   ]
  },
  {
   "cell_type": "code",
   "execution_count": 84,
   "metadata": {
    "id": "46f606b1-4dd2-495e-af08-280a02870cf0"
   },
   "outputs": [],
   "source": [
    "asset = {\n",
    "    'id': prod_script_id\n",
    "}\n",
    "asset_json = json.dumps(asset)"
   ]
  },
  {
   "cell_type": "code",
   "execution_count": 85,
   "metadata": {
    "id": "3559af7f-9c79-47da-bd02-8679065c8b96"
   },
   "outputs": [
    {
     "name": "stdout",
     "output_type": "stream",
     "text": [
      "...\n",
      "\u001b[1m\u001b[0m           \u001b[1m\u001b[0m   \n",
      "\u001b[36;1mID:\u001b[0m        25e17b86-9deb-4950-920d-47ba1fc781c1   \n",
      "\u001b[36;1mName:\u001b[0m      script_batch_deployment   \n",
      "\u001b[36;1mCreated:\u001b[0m   2021-04-30T12:39:28.441Z   \n",
      "\u001b[36;1mState:\u001b[0m     ready   \n",
      "\u001b[36;1mTags:\u001b[0m      []   \n"
     ]
    }
   ],
   "source": [
    "! cpdctl ml deployment update --space-id {prod_space_id} --deployment-id {prod_deployment_id} --asset '{asset_json}'"
   ]
  },
  {
   "cell_type": "markdown",
   "metadata": {
    "id": "060e1782-e3a3-4bfd-a2b0-6a81e1a34b65"
   },
   "source": [
    "Get the deployment job"
   ]
  },
  {
   "cell_type": "code",
   "execution_count": 119,
   "metadata": {
    "id": "3fb90ab5-e10d-463f-a3bc-b4d33a2e481b",
    "tags": []
   },
   "outputs": [
    {
     "name": "stdout",
     "output_type": "stream",
     "text": [
      "Production job ID: f8ce0da0-bce4-47b5-91eb-c9ac2af3cce7\n"
     ]
    }
   ],
   "source": [
    "jmes_query = 'resources[0].entity.platform_job.job_id'\n",
    "result = ! cpdctl ml deployment-job list --deployment-id {prod_deployment_id} --space-id {prod_space_id} --output json --jmes-query '{jmes_query}' --raw-output\n",
    "prod_job_id = result.s\n",
    "print('Production job ID: {}'.format(prod_job_id))"
   ]
  },
  {
   "cell_type": "code",
   "execution_count": 180,
   "metadata": {
    "id": "b896f955-13ac-4ee6-bdb8-6d936d126fe3"
   },
   "outputs": [
    {
     "name": "stdout",
     "output_type": "stream",
     "text": [
      "ID of the job run in production space: b558937d-66f1-4d7d-8182-aa1c3ce49cf9\n"
     ]
    }
   ],
   "source": [
    "run = '{}'\n",
    "jmes_query = 'metadata.asset_id'\n",
    "result = ! cpdctl job run create --space-id {prod_space_id} --job-id {prod_job_id} --job-run '{run}' --output json --jmes-query '{jmes_query}' --raw-output\n",
    "prod_run_id = result.s\n",
    "print('ID of the job run in production space: {}'.format(prod_run_id))"
   ]
  },
  {
   "cell_type": "markdown",
   "metadata": {
    "id": "4f51ec07-4bb3-4b65-b454-3e048df1cb98"
   },
   "source": [
    "Wait for job completion"
   ]
  },
  {
   "cell_type": "code",
   "execution_count": 181,
   "metadata": {
    "id": "1ecfb976-9038-49c1-85af-0e27ca6cadf0"
   },
   "outputs": [
    {
     "name": "stdout",
     "output_type": "stream",
     "text": [
      "...\n",
      "\u001b[1m\u001b[0m               \u001b[1m\u001b[0m   \n",
      "\u001b[36;1mID:\u001b[0m            b558937d-66f1-4d7d-8182-aa1c3ce49cf9   \n",
      "\u001b[36;1mName:\u001b[0m          job run   \n",
      "\u001b[36;1mCreated:\u001b[0m       2021-05-21T15:03:32Z   \n",
      "\u001b[36;1mDescription:\u001b[0m      \n",
      "\u001b[36;1mState:\u001b[0m         Completed   \n",
      "\u001b[36;1mTags:\u001b[0m          []   \n"
     ]
    }
   ],
   "source": [
    "! cpdctl job run wait --job-id {prod_job_id} --run-id {prod_run_id} --space-id {prod_space_id}"
   ]
  },
  {
   "cell_type": "markdown",
   "metadata": {
    "id": "575fcaec-9175-4813-bdbf-ccd7f7936cb2"
   },
   "source": [
    "You can see the batch deployment log:"
   ]
  },
  {
   "cell_type": "code",
   "execution_count": 182,
   "metadata": {
    "id": "f7d5d193-789a-4823-8007-2c19ff9c6013"
   },
   "outputs": [
    {
     "name": "stdout",
     "output_type": "stream",
     "text": [
      "...\n",
      "{\n",
      "  \"deployment\": {\n",
      "    \"id\": \"865c5d4b-3439-438a-a2a0-48305237f46d\"\n",
      "  },\n",
      "  \"hardware_spec\": {\n",
      "    \"id\": \"f3ebac7d-0a75-410c-8b48-a931428cc4c5\"\n",
      "  },\n",
      "  \"platform_job\": {\n",
      "    \"job_id\": \"2bb4ef91-cd73-4748-a10a-6316b2a71550\",\n",
      "    \"run_id\": \"b558937d-66f1-4d7d-8182-aa1c3ce49cf9\"\n",
      "  },\n",
      "  \"scoring\": {\n",
      "    \"input_data_references\": [\n",
      "      {\n",
      "        \"connection\": {},\n",
      "        \"location\": {\n",
      "          \"href\": \"/v2/assets/093424a6-c966-447e-8552-7f2d991f9a76?space_id=f67d7982-7dd0-4ed3-9161-503145f4e0ae\"\n",
      "        },\n",
      "        \"type\": \"data_asset\"\n",
      "      }\n",
      "    ],\n",
      "    \"output_data_reference\": {\n",
      "      \"connection\": {},\n",
      "      \"location\": {\n",
      "        \"href\": \"/v2/assets/ba81206c-6f95-4200-b31d-727ba94b85fb?space_id=f67d7982-7dd0-4ed3-9161-503145f4e0ae\"\n",
      "      },\n",
      "      \"type\": \"data_asset\"\n",
      "    },\n",
      "    \"status\": {\n",
      "      \"completed_at\": \"2021-05-21T15:04:16.176386Z\",\n",
      "      \"message\": {\n",
      "        \"level\": \"warning\",\n",
      "        \"text\": \"The directory pointed by the environment variable BATCH_OUTPUT_DIR is empty, skipping content upload to data asset\"\n",
      "      },\n",
      "      \"running_at\": \"2021-05-21T15:03:56.490537Z\",\n",
      "      \"state\": \"completed\"\n",
      "    }\n",
      "  }\n",
      "}\n",
      "\n"
     ]
    }
   ],
   "source": [
    "! cpdctl job run logs --job-id {prod_job_id} --run-id {prod_run_id} --space-id {prod_space_id}"
   ]
  },
  {
   "cell_type": "markdown",
   "metadata": {
    "id": "856bc4b9-4270-4e22-ac00-181d11184c74"
   },
   "source": [
    "## 5. Cleanup <a class=\"anchor\" id=\"part5\"></a>"
   ]
  },
  {
   "cell_type": "markdown",
   "metadata": {
    "id": "e528f324-f0e5-491e-9b7a-ebb462e22645"
   },
   "source": [
    "Delete QA space"
   ]
  },
  {
   "cell_type": "code",
   "execution_count": 227,
   "metadata": {
    "id": "a0d7e1ae-a675-45ca-9b5b-5aa3b1f9acee"
   },
   "outputs": [
    {
     "name": "stdout",
     "output_type": "stream",
     "text": [
      "...\n",
      "\u001b[32;1mOK\u001b[0m\n"
     ]
    }
   ],
   "source": [
    "! cpdctl space delete --space-id {qa_space_id} --context cpd"
   ]
  },
  {
   "cell_type": "markdown",
   "metadata": {
    "id": "fb18e332-c8d1-4bfd-91c4-32dd398bdd2d"
   },
   "source": [
    "### Author\n",
    "\n",
    "Rafał Bigaj, System Architect with long successful record of building and leading teams. Broad and practical knowledge in the area of cloud computing, machine learning and distributed systems development. "
   ]
  },
  {
   "cell_type": "markdown",
   "metadata": {
    "id": "a5148aea-4661-4b95-8141-fc39f9061573"
   },
   "source": [
    "Copyright © 2020 IBM. This notebook and its source code are released under the terms of the MIT License."
   ]
  }
 ],
 "metadata": {
  "kernelspec": {
   "display_name": "Python 3.7",
   "language": "python",
   "name": "python3"
  },
  "language_info": {
   "codemirror_mode": {
    "name": "ipython",
    "version": 3
   },
   "file_extension": ".py",
   "mimetype": "text/x-python",
   "name": "python",
   "nbconvert_exporter": "python",
   "pygments_lexer": "ipython3",
   "version": "3.7.10"
  }
 },
 "nbformat": 4,
 "nbformat_minor": 4
}
