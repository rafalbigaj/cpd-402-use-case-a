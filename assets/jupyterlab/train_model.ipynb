{
 "cells": [
  {
   "cell_type": "markdown",
   "metadata": {
    "id": "c385f277-0cc4-4f94-8dd7-77a9d945d660"
   },
   "source": [
    "<img src=\"data:image/png;base64, iVBORw0KGgoAAAANSUhEUgAAAEQAAABPCAMAAABlCpNDAAAAq1BMVEUAAAAAXP8AXf8AYv8AWP8AXf8AWv8AXf8AXf8AXf8AXf8AXf8AXf8AXf8AXv8AXf8AXf8AXP8AXf8AXf8AXf8AXf8AXf8AXf8AXP8AXf8AXf8AXf8AXv8AXP8AXf8AXf8AXf8AXf8AXf8AXf8AXf8AXf8AXP8AXP8AXf8AXf8AXP8AXf8AXf8AXf8AXf8AXf8AXv8AX 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\" alt=\"Cloud Pak for Data\" style=\"float: left; margin: 0; height: 60px;\" />\n",
    "\n",
    "<img src=\"data:image/png;base64, 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\" alt=\"Kubeflow Pipelines\" style=\"float: right; margin: 0; height: 60px;\" />\n",
    "\n",
    "<h1 style=\"float: left; margin-left: 1em; margin-top: 0.6em;\">Use <code>scikit</code> to train and store a reference model in Watson Machine Learning</h1>"
   ]
  },
  {
   "cell_type": "markdown",
   "metadata": {
    "id": "2ab52707-7d0c-4659-8cad-70870041e605"
   },
   "source": [
    "This notebook contains steps and code to demonstrate how to persist locally trained scikit-learn model in Watson Machine Learning Service. It is automatically executed in the sample Orchestration Flow to train the credit risk prediciton model, which is used as a reference and compoared with other models trained during AutoAI experiment run.\n",
    "\n",
    "Some familiarity with Python is helpful. This notebook uses **Python 3.7** with the [`ibm-watson-machine-learning`](https://pypi.python.org/pypi/ibm-watson-machine-learning) and [`ibm-cpp-orchestration`](https://pypi.python.org/pypi/ibm-cpp-orchestration) package.\n",
    "\n",
    "### Contents\n",
    "\n",
    "- [Setup](#setup)\n",
    "- [Model building](#model)\n",
    "- [Storing notebook results](#results)"
   ]
  },
  {
   "cell_type": "markdown",
   "metadata": {
    "id": "539d9c17-f050-4cd9-ad60-0f27cd2ed696"
   },
   "source": [
    "<a id=\"setup\"></a>\n",
    "## 1. Set up the environment\n",
    "\n",
    "Before you use the sample code in this notebook, you must perform the following setup tasks:\n",
    "\n",
    "-  Create a <a href=\"https://console.ng.bluemix.net/catalog/services/ibm-watson-machine-learning/\" target=\"_blank\" rel=\"noopener no referrer\">Watson Machine Learning (WML) Service</a> instance (a free plan is offered and information about how to create the instance can be found <a href=\"https://dataplatform.ibm.com/docs/content/analyze-data/wml-setup.html\" target=\"_blank\" rel=\"noopener no referrer\">here</a>).\n",
    "\n",
    "### Connection to WML\n",
    "\n",
    "Authenticate the Watson Machine Learning service on IBM Cloud. You need to provide platform `api_key` and instance `location`.\n",
    "\n",
    "You can use [IBM Cloud CLI](https://cloud.ibm.com/docs/cli/index.html) to retrieve platform API Key and instance location.\n",
    "\n",
    "API Key can be generated in the following way:\n",
    "```\n",
    "ibmcloud login\n",
    "ibmcloud iam api-key-create API_KEY_NAME\n",
    "```\n",
    "\n",
    "In result, get the value of `api_key` from the output.\n",
    "\n",
    "\n",
    "**Tip**: Your `Cloud API key` can be generated by going to the [**Users** section of the Cloud console](https://cloud.ibm.com/iam#/users). From that page, click your name, scroll down to the **API Keys** section, and click **Create an IBM Cloud API key**. Give your key a name and click **Create**, then copy the created key and paste it below. You can also get a service specific url by going to the [**Endpoint URLs** section of the Watson Machine Learning docs](https://cloud.ibm.com/apidocs/machine-learning).  You can check your instance location in your  <a href=\"https://console.ng.bluemix.net/catalog/services/ibm-watson-machine-learning/\" target=\"_blank\" rel=\"noopener no referrer\">Watson Machine Learning (WML) Service</a> instance details.\n",
    "\n",
    "You can also get service specific apikey by going to the [**Service IDs** section of the Cloud Console](https://cloud.ibm.com/iam/serviceids).  From that page, click **Create**, then copy the created key and paste it below.\n",
    "\n",
    "**Action**: Enter your `api_key` in the following cell."
   ]
  },
  {
   "cell_type": "markdown",
   "metadata": {
    "id": "6f2f6ab7-74c8-411d-a813-84397fac7c26"
   },
   "source": [
    "## Package installation"
   ]
  },
  {
   "cell_type": "code",
   "execution_count": 6,
   "metadata": {
    "id": "d2045ecb-5c0c-4d69-b163-c0cef6193ef3",
    "tags": []
   },
   "outputs": [
    {
     "name": "stdout",
     "output_type": "stream",
     "text": [
      "Successfully installed ibm-watson-machine-learning-1.0.116\n",
      "\u001b[31mERROR: sparkmagic 0.15.0 requires nose, which is not installed.\u001b[0m\n",
      "\u001b[31mERROR: ibm-watson-machine-learning 1.0.116 has requirement ibm-cos-sdk==2.7.*, but you'll have ibm-cos-sdk 2.10.0 which is incompatible.\u001b[0m\n",
      "\u001b[31mERROR: botocore 1.16.11 has requirement urllib3<1.26,>=1.20, but you'll have urllib3 1.26.6 which is incompatible.\u001b[0m\n",
      "Successfully installed attrs-21.2.0 charset-normalizer-2.0.4 ibm-cos-sdk-2.10.0 ibm-cos-sdk-core-2.10.0 ibm-cos-sdk-s3transfer-2.10.0 ibm-cpp-orchestration-0.1.0 requests-2.26.0 responses-0.13.3 urllib3-1.26.6\n"
     ]
    }
   ],
   "source": [
    "!pip install -U ibm-watson-machine-learning | tail -n 1"
   ]
  },
  {
   "cell_type": "markdown",
   "metadata": {
    "id": "31200ea1-d07a-498f-96ac-c03f383b773c"
   },
   "source": [
    "## Notebook parameters\n",
    "\n",
    "This notebook is run in the CI/CD process that passes following environment variables:\n",
    "\n",
    "- `USER_NAME` - CPD user name\n",
    "- `USER_PASSWORD` - CPD user password\n",
    "- `CPD_URL` - CPD installation URL\n",
    "- `DATA_ASSET_ID` - the training data set ID\n",
    "- `MODEL_NAME` - the new model name"
   ]
  },
  {
   "cell_type": "code",
   "execution_count": 25,
   "metadata": {
    "id": "f9692cef-378b-403d-ae06-304a24a5aae2",
    "tags": []
   },
   "outputs": [
    {
     "name": "stdout",
     "output_type": "stream",
     "text": [
      "env: DATA_ASSET_ID=9bd1bc72-41d2-40fa-a60c-691816a71e72\n"
     ]
    }
   ],
   "source": [
    "%env DATA_ASSET_ID 9bd1bc72-41d2-40fa-a60c-691816a71e72"
   ]
  },
  {
   "cell_type": "code",
   "execution_count": 44,
   "metadata": {
    "id": "08d69bf7-d433-4777-a127-cc28e5e32481",
    "tags": []
   },
   "outputs": [],
   "source": [
    "CPD_USER_NAME = os.getenv('USER_NAME')\n",
    "CPD_USER_PASSWORD = os.getenv('USER_PASSWORD')\n",
    "CPD_URL = os.getenv('CPD_URL')\n",
    "TRAINING_DATA_ASSET_ID = os.getenv('DATA_ASSET_ID')\n",
    "MODEL_NAME = os.getenv('MODEL_NAME', 'gcr-scikit-model')"
   ]
  },
  {
   "cell_type": "code",
   "execution_count": 11,
   "metadata": {
    "id": "e66d1335-416a-4113-a4fa-1c73aa4f1a5d",
    "tags": []
   },
   "outputs": [],
   "source": [
    "wml_credentials = {\n",
    "    \"username\": CPD_USER_NAME,\n",
    "    \"password\": CPD_USER_PASSWORD,\n",
    "    \"url\": CPD_URL,\n",
    "    \"instance_id\": 'openshift',\n",
    "    \"version\": '4.0'\n",
    "}"
   ]
  },
  {
   "cell_type": "code",
   "execution_count": 12,
   "metadata": {
    "id": "62787708-e814-4d87-9c1c-afad6e6488be",
    "tags": []
   },
   "outputs": [],
   "source": [
    "import os\n",
    "import numpy as np\n",
    "import pandas as pd\n",
    "from ibm_watson_machine_learning import APIClient\n",
    "\n",
    "wml_client = APIClient(wml_credentials)"
   ]
  },
  {
   "cell_type": "code",
   "execution_count": 16,
   "metadata": {
    "id": "451ebc98-080d-466e-8988-5ef3c1b65aff",
    "tags": []
   },
   "outputs": [
    {
     "data": {
      "text/plain": [
       "'SUCCESS'"
      ]
     },
     "execution_count": 16,
     "metadata": {},
     "output_type": "execute_result"
    }
   ],
   "source": [
    "project_id = os.getenv('PROJECT_ID')\n",
    "wml_client.set.default_project(project_id)"
   ]
  },
  {
   "cell_type": "markdown",
   "metadata": {
    "id": "aa373ae3-10d5-490d-a333-0db48182fe93"
   },
   "source": [
    "## Connect to Watson Machine Learning"
   ]
  },
  {
   "cell_type": "markdown",
   "metadata": {
    "id": "2a562b93-26f9-41f5-8446-470c65244b4d"
   },
   "source": [
    "Select the space pointed in the `SPACE` environment variable passed from the Orchestartion Flow."
   ]
  },
  {
   "cell_type": "code",
   "execution_count": 5,
   "metadata": {
    "id": "ac216c8f-f06a-4716-9038-ccd8cb46addb"
   },
   "outputs": [],
   "source": [
    "orchestration_client = CPDOrchestration.from_apikey(api_key, url=cpdaas_url)\n",
    "\n",
    "# Extract space ID from CPD Path passed from the Orchestartion Flow as an environment variable\n",
    "space_scope = CpdScope.from_string(SPACE_CPD_PATH)\n",
    "space_id = space_scope.scope_id\n",
    "\n",
    "wml_credentials = orchestration_client.get_wml_credentials(space_scope)"
   ]
  },
  {
   "cell_type": "code",
   "execution_count": 6,
   "metadata": {
    "id": "02428fc5-37cc-4ccf-bba2-7b45e0ba418f"
   },
   "outputs": [
    {
     "data": {
      "text/plain": [
       "{'guid': '4e683067-053c-4a3e-b56e-a22198a6b7f3',\n",
       " 'name': 'rbigaj-v2-standard-2020-09-07',\n",
       " 'url': 'https://us-south.ml.cloud.ibm.com',\n",
       " 'apikey': 'J1Nsw1RD5laGd0WKpVqVgfSUdYWj3kpoE0TtpR0-tP-q'}"
      ]
     },
     "execution_count": 6,
     "metadata": {},
     "output_type": "execute_result"
    }
   ],
   "source": [
    "wml_credentials"
   ]
  },
  {
   "cell_type": "code",
   "execution_count": 7,
   "metadata": {
    "id": "f97a9fa2-e175-4805-ab10-5f303124fdb9"
   },
   "outputs": [
    {
     "data": {
      "text/plain": [
       "'SUCCESS'"
      ]
     },
     "execution_count": 7,
     "metadata": {},
     "output_type": "execute_result"
    }
   ],
   "source": [
    "wml_client = APIClient(wml_credentials)\n",
    "\n",
    "wml_client.set.default_space(space_id)"
   ]
  },
  {
   "cell_type": "markdown",
   "metadata": {
    "id": "8dfea690-a838-4197-8b45-740cc8823c0e"
   },
   "source": [
    "## Download the training data asset"
   ]
  },
  {
   "cell_type": "markdown",
   "metadata": {
    "id": "be518139-d6a6-4ac5-844b-ac9c9eea6fd5"
   },
   "source": [
    "Download the training data asset pointed in the `TRAINING_DATA_ASSET_CPD_PATH` environment variable passed from the Orchestartion Flow."
   ]
  },
  {
   "cell_type": "code",
   "execution_count": 28,
   "metadata": {
    "id": "f147113a-76e9-4667-9e5f-54a9277202a5",
    "tags": []
   },
   "outputs": [
    {
     "name": "stdout",
     "output_type": "stream",
     "text": [
      "Successfully saved data asset content to file: 'training_data.csv'\n"
     ]
    }
   ],
   "source": [
    "DATA_FILE_NAME='training_data.csv'\n",
    "\n",
    "wml_client.data_assets.download(asset_uid=TRAINING_DATA_ASSET_ID, filename=DATA_FILE_NAME)\n",
    "\n",
    "data_df = pd.read_csv(DATA_FILE_NAME)"
   ]
  },
  {
   "cell_type": "markdown",
   "metadata": {
    "id": "e0677ce5-b2a8-41b6-9620-87cf8f5ed02f"
   },
   "source": [
    "# Model building and deployment <a name=\"model\"></a>"
   ]
  },
  {
   "cell_type": "markdown",
   "metadata": {
    "id": "c0cea4d7-d346-4862-8623-7babce837d4d"
   },
   "source": [
    "In this section you will learn how to train Scikit-learn model and next deploy it as web-service using Watson Machine Learning service."
   ]
  },
  {
   "cell_type": "markdown",
   "metadata": {
    "id": "cc987992-ba09-4668-a6b1-b61685c7a9b4"
   },
   "source": [
    "## Explore data"
   ]
  },
  {
   "cell_type": "code",
   "execution_count": 29,
   "metadata": {
    "id": "10a0ba22-16aa-4506-927a-bf547113189f",
    "tags": []
   },
   "outputs": [
    {
     "data": {
      "text/html": [
       "<div>\n",
       "<style scoped>\n",
       "    .dataframe tbody tr th:only-of-type {\n",
       "        vertical-align: middle;\n",
       "    }\n",
       "\n",
       "    .dataframe tbody tr th {\n",
       "        vertical-align: top;\n",
       "    }\n",
       "\n",
       "    .dataframe thead th {\n",
       "        text-align: right;\n",
       "    }\n",
       "</style>\n",
       "<table border=\"1\" class=\"dataframe\">\n",
       "  <thead>\n",
       "    <tr style=\"text-align: right;\">\n",
       "      <th></th>\n",
       "      <th>CheckingStatus</th>\n",
       "      <th>LoanDuration</th>\n",
       "      <th>CreditHistory</th>\n",
       "      <th>LoanPurpose</th>\n",
       "      <th>LoanAmount</th>\n",
       "      <th>ExistingSavings</th>\n",
       "      <th>EmploymentDuration</th>\n",
       "      <th>InstallmentPercent</th>\n",
       "      <th>Sex</th>\n",
       "      <th>OthersOnLoan</th>\n",
       "      <th>...</th>\n",
       "      <th>OwnsProperty</th>\n",
       "      <th>Age</th>\n",
       "      <th>InstallmentPlans</th>\n",
       "      <th>Housing</th>\n",
       "      <th>ExistingCreditsCount</th>\n",
       "      <th>Job</th>\n",
       "      <th>Dependents</th>\n",
       "      <th>Telephone</th>\n",
       "      <th>ForeignWorker</th>\n",
       "      <th>Risk</th>\n",
       "    </tr>\n",
       "  </thead>\n",
       "  <tbody>\n",
       "    <tr>\n",
       "      <th>0</th>\n",
       "      <td>0_to_200</td>\n",
       "      <td>31</td>\n",
       "      <td>credits_paid_to_date</td>\n",
       "      <td>other</td>\n",
       "      <td>1889</td>\n",
       "      <td>100_to_500</td>\n",
       "      <td>less_1</td>\n",
       "      <td>3</td>\n",
       "      <td>female</td>\n",
       "      <td>none</td>\n",
       "      <td>...</td>\n",
       "      <td>savings_insurance</td>\n",
       "      <td>32</td>\n",
       "      <td>none</td>\n",
       "      <td>own</td>\n",
       "      <td>1</td>\n",
       "      <td>skilled</td>\n",
       "      <td>1</td>\n",
       "      <td>none</td>\n",
       "      <td>yes</td>\n",
       "      <td>No Risk</td>\n",
       "    </tr>\n",
       "    <tr>\n",
       "      <th>1</th>\n",
       "      <td>less_0</td>\n",
       "      <td>18</td>\n",
       "      <td>credits_paid_to_date</td>\n",
       "      <td>car_new</td>\n",
       "      <td>462</td>\n",
       "      <td>less_100</td>\n",
       "      <td>1_to_4</td>\n",
       "      <td>2</td>\n",
       "      <td>female</td>\n",
       "      <td>none</td>\n",
       "      <td>...</td>\n",
       "      <td>savings_insurance</td>\n",
       "      <td>37</td>\n",
       "      <td>stores</td>\n",
       "      <td>own</td>\n",
       "      <td>2</td>\n",
       "      <td>skilled</td>\n",
       "      <td>1</td>\n",
       "      <td>none</td>\n",
       "      <td>yes</td>\n",
       "      <td>No Risk</td>\n",
       "    </tr>\n",
       "    <tr>\n",
       "      <th>2</th>\n",
       "      <td>less_0</td>\n",
       "      <td>15</td>\n",
       "      <td>prior_payments_delayed</td>\n",
       "      <td>furniture</td>\n",
       "      <td>250</td>\n",
       "      <td>less_100</td>\n",
       "      <td>1_to_4</td>\n",
       "      <td>2</td>\n",
       "      <td>male</td>\n",
       "      <td>none</td>\n",
       "      <td>...</td>\n",
       "      <td>real_estate</td>\n",
       "      <td>28</td>\n",
       "      <td>none</td>\n",
       "      <td>own</td>\n",
       "      <td>2</td>\n",
       "      <td>skilled</td>\n",
       "      <td>1</td>\n",
       "      <td>yes</td>\n",
       "      <td>no</td>\n",
       "      <td>No Risk</td>\n",
       "    </tr>\n",
       "    <tr>\n",
       "      <th>3</th>\n",
       "      <td>0_to_200</td>\n",
       "      <td>28</td>\n",
       "      <td>credits_paid_to_date</td>\n",
       "      <td>retraining</td>\n",
       "      <td>3693</td>\n",
       "      <td>less_100</td>\n",
       "      <td>greater_7</td>\n",
       "      <td>3</td>\n",
       "      <td>male</td>\n",
       "      <td>none</td>\n",
       "      <td>...</td>\n",
       "      <td>savings_insurance</td>\n",
       "      <td>32</td>\n",
       "      <td>none</td>\n",
       "      <td>own</td>\n",
       "      <td>1</td>\n",
       "      <td>skilled</td>\n",
       "      <td>1</td>\n",
       "      <td>none</td>\n",
       "      <td>yes</td>\n",
       "      <td>No Risk</td>\n",
       "    </tr>\n",
       "    <tr>\n",
       "      <th>4</th>\n",
       "      <td>no_checking</td>\n",
       "      <td>28</td>\n",
       "      <td>prior_payments_delayed</td>\n",
       "      <td>education</td>\n",
       "      <td>6235</td>\n",
       "      <td>500_to_1000</td>\n",
       "      <td>greater_7</td>\n",
       "      <td>3</td>\n",
       "      <td>male</td>\n",
       "      <td>none</td>\n",
       "      <td>...</td>\n",
       "      <td>unknown</td>\n",
       "      <td>57</td>\n",
       "      <td>none</td>\n",
       "      <td>own</td>\n",
       "      <td>2</td>\n",
       "      <td>skilled</td>\n",
       "      <td>1</td>\n",
       "      <td>none</td>\n",
       "      <td>yes</td>\n",
       "      <td>Risk</td>\n",
       "    </tr>\n",
       "  </tbody>\n",
       "</table>\n",
       "<p>5 rows × 21 columns</p>\n",
       "</div>"
      ],
      "text/plain": [
       "  CheckingStatus  LoanDuration           CreditHistory LoanPurpose  \\\n",
       "0       0_to_200            31    credits_paid_to_date       other   \n",
       "1         less_0            18    credits_paid_to_date     car_new   \n",
       "2         less_0            15  prior_payments_delayed   furniture   \n",
       "3       0_to_200            28    credits_paid_to_date  retraining   \n",
       "4    no_checking            28  prior_payments_delayed   education   \n",
       "\n",
       "   LoanAmount ExistingSavings EmploymentDuration  InstallmentPercent     Sex  \\\n",
       "0        1889      100_to_500             less_1                   3  female   \n",
       "1         462        less_100             1_to_4                   2  female   \n",
       "2         250        less_100             1_to_4                   2    male   \n",
       "3        3693        less_100          greater_7                   3    male   \n",
       "4        6235     500_to_1000          greater_7                   3    male   \n",
       "\n",
       "  OthersOnLoan  ...       OwnsProperty Age  InstallmentPlans Housing  \\\n",
       "0         none  ...  savings_insurance  32              none     own   \n",
       "1         none  ...  savings_insurance  37            stores     own   \n",
       "2         none  ...        real_estate  28              none     own   \n",
       "3         none  ...  savings_insurance  32              none     own   \n",
       "4         none  ...            unknown  57              none     own   \n",
       "\n",
       "  ExistingCreditsCount      Job Dependents  Telephone ForeignWorker     Risk  \n",
       "0                    1  skilled          1       none           yes  No Risk  \n",
       "1                    2  skilled          1       none           yes  No Risk  \n",
       "2                    2  skilled          1        yes            no  No Risk  \n",
       "3                    1  skilled          1       none           yes  No Risk  \n",
       "4                    2  skilled          1       none           yes     Risk  \n",
       "\n",
       "[5 rows x 21 columns]"
      ]
     },
     "execution_count": 29,
     "metadata": {},
     "output_type": "execute_result"
    }
   ],
   "source": [
    "data_df.head()"
   ]
  },
  {
   "cell_type": "code",
   "execution_count": 30,
   "metadata": {
    "id": "93b9a64d-faf0-488a-a620-859a4ebe0fa0",
    "scrolled": true,
    "tags": []
   },
   "outputs": [
    {
     "name": "stdout",
     "output_type": "stream",
     "text": [
      "Columns:  ['CheckingStatus', 'LoanDuration', 'CreditHistory', 'LoanPurpose', 'LoanAmount', 'ExistingSavings', 'EmploymentDuration', 'InstallmentPercent', 'Sex', 'OthersOnLoan', 'CurrentResidenceDuration', 'OwnsProperty', 'Age', 'InstallmentPlans', 'Housing', 'ExistingCreditsCount', 'Job', 'Dependents', 'Telephone', 'ForeignWorker', 'Risk']\n",
      "Number of columns:  21\n"
     ]
    }
   ],
   "source": [
    "print('Columns: ', list(data_df.columns))\n",
    "print('Number of columns: ', len(data_df.columns))"
   ]
  },
  {
   "cell_type": "markdown",
   "metadata": {
    "id": "7ec1298f-1e96-4f58-9b8b-85a68e99c42e"
   },
   "source": [
    "As you can see, the data contains twenty one fields. `Risk` field is the one you would like to predict using feedback data."
   ]
  },
  {
   "cell_type": "code",
   "execution_count": 31,
   "metadata": {
    "id": "b77d8529-7728-4dee-961d-19fbf4dbdd20",
    "scrolled": true,
    "tags": []
   },
   "outputs": [
    {
     "name": "stdout",
     "output_type": "stream",
     "text": [
      "Number of records:  5000\n"
     ]
    }
   ],
   "source": [
    "print('Number of records: ', data_df.Risk.count())"
   ]
  },
  {
   "cell_type": "code",
   "execution_count": 32,
   "metadata": {
    "id": "16af0d7a-2a2d-428f-aaac-7958b68174db",
    "tags": []
   },
   "outputs": [
    {
     "data": {
      "text/plain": [
       "Risk\n",
       "No Risk    3330\n",
       "Risk       1670\n",
       "Name: Risk, dtype: int64"
      ]
     },
     "execution_count": 32,
     "metadata": {},
     "output_type": "execute_result"
    }
   ],
   "source": [
    "target_count = data_df.groupby('Risk')['Risk'].count()\n",
    "target_count"
   ]
  },
  {
   "cell_type": "markdown",
   "metadata": {
    "id": "87b02a85-2efd-4d0c-80bf-d85583bb3a50"
   },
   "source": [
    "## Visualize data"
   ]
  },
  {
   "cell_type": "code",
   "execution_count": 33,
   "metadata": {
    "id": "ca9164a6-e740-4bc7-97fa-cd3debf3106b",
    "tags": []
   },
   "outputs": [
    {
     "data": {
      "image/png": "[encoded data removed]",
      "text/plain": [
       "<Figure size 576x576 with 1 Axes>"
      ]
     },
     "metadata": {},
     "output_type": "display_data"
    }
   ],
   "source": [
    "target_count.plot.pie(figsize=(8, 8));"
   ]
  },
  {
   "cell_type": "markdown",
   "metadata": {
    "id": "4b241163-da0f-4efd-ab35-be1c54d70dad"
   },
   "source": [
    "## Create a model\n",
    "In this section you will learn how to:\n",
    "\n",
    "- Prepare data for training a model\n",
    "- Create machine learning pipeline\n",
    "- Train a model"
   ]
  },
  {
   "cell_type": "markdown",
   "metadata": {
    "id": "0942e98f-2f49-4c48-857b-98f40e99d26d"
   },
   "source": [
    "### You will start with importing required libraries"
   ]
  },
  {
   "cell_type": "code",
   "execution_count": 34,
   "metadata": {
    "id": "fa3c1964-3234-42cf-8253-721be75d3835",
    "scrolled": true,
    "tags": []
   },
   "outputs": [],
   "source": [
    "from sklearn.linear_model import SGDClassifier\n",
    "from sklearn.ensemble import GradientBoostingClassifier\n",
    "from sklearn.preprocessing import LabelEncoder, OneHotEncoder, StandardScaler, OrdinalEncoder\n",
    "from sklearn.impute import SimpleImputer\n",
    "from sklearn.decomposition import TruncatedSVD\n",
    "from sklearn.compose import ColumnTransformer\n",
    "from sklearn.pipeline import Pipeline\n",
    "from sklearn.model_selection import train_test_split"
   ]
  },
  {
   "cell_type": "markdown",
   "metadata": {
    "id": "c8dec618-54d4-4179-861c-b47ebe2f747d"
   },
   "source": [
    "### Splitting the data into train and test"
   ]
  },
  {
   "cell_type": "code",
   "execution_count": 35,
   "metadata": {
    "id": "af6e17e8-aa89-4ae1-984d-71686d5c665a",
    "tags": []
   },
   "outputs": [],
   "source": [
    "train_data, test_data = train_test_split(data_df, test_size=0.2)"
   ]
  },
  {
   "cell_type": "code",
   "execution_count": 36,
   "metadata": {
    "id": "9de66474-4fc2-4a2c-927c-25d59833c9a1",
    "tags": []
   },
   "outputs": [],
   "source": [
    "X_train, y_train = train_data.drop('Risk', axis=1), train_data.Risk\n",
    "\n",
    "target_label_name = \"Risk\"\n",
    "feature_cols= data_df.drop(columns=[target_label_name])\n",
    "label= data_df[target_label_name]\n",
    "\n",
    "\n",
    "# Data preprocessing transformer generation\n",
    "\n",
    "numeric_transformer = Pipeline(steps=[\n",
    "    ('imputer', SimpleImputer(strategy='median')),\n",
    "    ('scaler', StandardScaler())])\n",
    "categorical_transformer = Pipeline(steps=[\n",
    "    ('imputer', SimpleImputer(strategy='most_frequent')),\n",
    "    ('OrdinalEncoder', OrdinalEncoder(categories='auto',dtype=np.float64 ))])\n",
    "\n",
    "numeric_features = feature_cols.select_dtypes(include=['int64', 'float64']).columns\n",
    "categorical_features = feature_cols.select_dtypes(include=['object']).columns\n",
    "\n",
    "preprocessor = ColumnTransformer(\n",
    "    transformers=[\n",
    "        ('num', numeric_transformer, numeric_features),\n",
    "        ('cat', categorical_transformer, categorical_features)])\n",
    "\n",
    "# Initiate model and create pipeline\n",
    "model = GradientBoostingClassifier()\n",
    "gbt_pipeline = Pipeline(steps=[('preprocessor', preprocessor), ('classifier', model)])\n",
    "model_gbt = gbt_pipeline.fit(X_train, y_train)\n",
    "\n",
    "y_pred = model_gbt.predict(test_data)"
   ]
  },
  {
   "cell_type": "markdown",
   "metadata": {
    "id": "6ea930d8-1938-4a76-8084-2aa4fdfab55c"
   },
   "source": [
    "### Preparing the pipeline"
   ]
  },
  {
   "cell_type": "code",
   "execution_count": 39,
   "metadata": {
    "id": "34fb1883-5ec6-4b90-8c71-090724f30289",
    "tags": []
   },
   "outputs": [],
   "source": [
    "features_idx = np.s_[0:-1]\n",
    "all_records_idx = np.s_[:]\n",
    "first_record_idx = np.s_[0]"
   ]
  },
  {
   "cell_type": "markdown",
   "metadata": {
    "id": "00e9df35-1eeb-4d17-a38f-5ebc74b21044"
   },
   "source": [
    "In this step you will encode target column labels into numeric values. You can use `inverse_transform` to decode numeric predictions into labels."
   ]
  },
  {
   "cell_type": "code",
   "execution_count": 40,
   "metadata": {
    "id": "40eb3e1a-b462-47d9-8223-21f68e66c807",
    "tags": []
   },
   "outputs": [],
   "source": [
    "string_fields = [type(fld) is str for fld in train_data.iloc[first_record_idx, features_idx]]\n",
    "ct = ColumnTransformer([(\"ohe\", OneHotEncoder(), list(np.array(train_data.columns)[features_idx][string_fields]))])\n",
    "clf_linear = SGDClassifier(loss='log', penalty='l2', max_iter=1000, tol=1e-5)\n",
    "\n",
    "pipeline_linear = Pipeline([('ct', ct), ('clf_linear', clf_linear)])"
   ]
  },
  {
   "cell_type": "markdown",
   "metadata": {
    "id": "786f8326-79c4-49fd-9d4b-d29e57e112ee"
   },
   "source": [
    "### Train a model"
   ]
  },
  {
   "cell_type": "code",
   "execution_count": 41,
   "metadata": {
    "id": "3bc8d382-ddb2-4771-a6ce-59ff615b2002",
    "tags": []
   },
   "outputs": [],
   "source": [
    "risk_model = pipeline_linear.fit(train_data.drop('Risk', axis=1), train_data.Risk)"
   ]
  },
  {
   "cell_type": "code",
   "execution_count": 42,
   "metadata": {
    "id": "9d859072-e8c5-43c6-aebd-5aebf2b404a0",
    "tags": []
   },
   "outputs": [],
   "source": [
    "risk_model = model_gbt"
   ]
  },
  {
   "cell_type": "markdown",
   "metadata": {
    "id": "fd472fe4-41c4-499d-bfcb-5c5f392d38e8"
   },
   "source": [
    "### Evaluate the model"
   ]
  },
  {
   "cell_type": "code",
   "execution_count": 43,
   "metadata": {
    "id": "d19a0ba1-13c4-427e-9792-26a843e5682e",
    "tags": []
   },
   "outputs": [
    {
     "name": "stdout",
     "output_type": "stream",
     "text": [
      "0.7351536549568094\n"
     ]
    }
   ],
   "source": [
    "from sklearn.metrics import roc_auc_score\n",
    "\n",
    "predictions = risk_model.predict(test_data.drop('Risk', axis=1))\n",
    "indexed_preds = [0 if prediction=='No Risk' else 1 for prediction in predictions]\n",
    "\n",
    "real_observations = test_data.Risk.replace('Risk', 1)\n",
    "real_observations = real_observations.replace('No Risk', 0).values\n",
    "\n",
    "auc = roc_auc_score(real_observations, indexed_preds)\n",
    "print(auc)"
   ]
  },
  {
   "cell_type": "markdown",
   "metadata": {
    "id": "53bab4c5-8c5a-4a6d-b7d9-35c88428b74e"
   },
   "source": [
    "## Publish the model"
   ]
  },
  {
   "cell_type": "markdown",
   "metadata": {
    "id": "bdbff9aa-4303-4bea-ac21-f578834bac7e"
   },
   "source": [
    "In this section, the notebook uses the supplied Watson Machine Learning client to save the model (including the pipeline) to the WML instance. Previous versions of the model are removed so that the notebook can be run again, resetting all data for another demo."
   ]
  },
  {
   "cell_type": "markdown",
   "metadata": {
    "id": "ccc273ca-adad-4df9-a19c-3c7a38943275"
   },
   "source": [
    "### Remove existing model"
   ]
  },
  {
   "cell_type": "code",
   "execution_count": 51,
   "metadata": {
    "id": "699717ca-4b8c-45f8-9a29-ff0cf1cd42a1",
    "scrolled": true,
    "tags": []
   },
   "outputs": [
    {
     "name": "stdout",
     "output_type": "stream",
     "text": [
      "--  ----  -------  ----\n",
      "ID  NAME  CREATED  TYPE\n",
      "--  ----  -------  ----\n"
     ]
    }
   ],
   "source": [
    "models = wml_client.repository.get_model_details()['resources']\n",
    "model_id = next((m['metadata']['id'] for m in models if m['metadata']['name'] == MODEL_NAME), None)\n",
    "\n",
    "if wml_client.default_space_id:\n",
    "    model_deployments = wml_client.deployments.get_details()\n",
    "    for deployment in model_deployments['resources']:\n",
    "        deployment_id = deployment['metadata']['id']\n",
    "        asset_id = deployment['entity']['asset']['id']\n",
    "        if asset_id == model_id:\n",
    "            print('Deleting deployment id', deployment_id)\n",
    "            wml_client.deployments.delete(deployment_id)\n",
    "\n",
    "if model_id:\n",
    "    print('Deleting model id', model_id)\n",
    "    wml_client.repository.delete(model_id)\n",
    "\n",
    "wml_client.repository.list_models()"
   ]
  },
  {
   "cell_type": "code",
   "execution_count": 53,
   "metadata": {
    "id": "8181ecc9-10a8-48d0-9e47-1763d60afe51",
    "tags": []
   },
   "outputs": [],
   "source": [
    "software_spec_id = wml_client.software_specifications.get_uid_by_name('default_py3.7')"
   ]
  },
  {
   "cell_type": "code",
   "execution_count": 56,
   "metadata": {
    "id": "34bdc737-fe19-4580-96ee-aec9e0e3cb9c",
    "scrolled": true,
    "tags": []
   },
   "outputs": [],
   "source": [
    "model_props = {\n",
    "    wml_client.repository.ModelMetaNames.NAME: \"{}\".format(MODEL_NAME),\n",
    "    wml_client.repository.ModelMetaNames.SOFTWARE_SPEC_UID: software_spec_id,\n",
    "    wml_client.repository.ModelMetaNames.TYPE: \"scikit-learn_0.23\",\n",
    "    wml_client.repository.ModelMetaNames.TAGS: [\"cpdctl-demo-model\"]\n",
    "}"
   ]
  },
  {
   "cell_type": "code",
   "execution_count": 57,
   "metadata": {
    "id": "b335e3b6-e538-4ad3-a7e5-c0ddfc00485f",
    "scrolled": true,
    "tags": []
   },
   "outputs": [
    {
     "name": "stdout",
     "output_type": "stream",
     "text": [
      "Storing model ...\n",
      "Done\n"
     ]
    }
   ],
   "source": [
    "wml_models = wml_client.repository.get_details()\n",
    "model_id = None\n",
    "for model in wml_models['models']['resources']:\n",
    "    if MODEL_NAME == model['metadata']['name']:\n",
    "        model_id = model['metadata']['id']\n",
    "        break\n",
    "\n",
    "if model_id is None:\n",
    "    print(\"Storing model ...\")\n",
    "\n",
    "    published_model_details = wml_client.repository.store_model(model=risk_model, meta_props=model_props, training_data=data_df.drop(['Risk'], axis=1), training_target=data_df.Risk)\n",
    "    model_id = wml_client.repository.get_model_id(published_model_details)\n",
    "    print(\"Done\")"
   ]
  },
  {
   "cell_type": "code",
   "execution_count": 58,
   "metadata": {
    "id": "fc5e5394-d917-4a15-b44b-4ca8e458e220",
    "tags": []
   },
   "outputs": [
    {
     "name": "stdout",
     "output_type": "stream",
     "text": [
      "------------------------------------  ----------------  ------------------------  -----------------\n",
      "ID                                    NAME              CREATED                   TYPE\n",
      "149ab24b-adb7-4708-bdf5-1d8f795b1232  gcr-scikit-model  2021-08-05T09:34:13.002Z  scikit-learn_0.23\n",
      "------------------------------------  ----------------  ------------------------  -----------------\n"
     ]
    }
   ],
   "source": [
    "wml_client.repository.list_models()"
   ]
  },
  {
   "cell_type": "markdown",
   "metadata": {
    "id": "f38ec981-d85a-447e-8bd6-2345e33b814a"
   },
   "source": [
    "Prepare the model CPD Path which would be stored as one of the notebook result."
   ]
  },
  {
   "cell_type": "markdown",
   "metadata": {
    "id": "dd3d5c1d-5215-4a5e-9412-1bc5566202cb"
   },
   "source": [
    "### Authors\n",
    "\n",
    "**Rafał Bigaj**, System Architect with long successful record of building and leading teams. Broad and practical knowledge in the area of cloud computing, machine learning and distributed systems development."
   ]
  },
  {
   "cell_type": "markdown",
   "metadata": {
    "id": "0eff0bb5-5094-4e52-9959-9e0fd3858ee4"
   },
   "source": [
    "Copyright © 2021 IBM. This notebook and its source code are released under the terms of the MIT License."
   ]
  },
  {
   "cell_type": "code",
   "execution_count": null,
   "metadata": {
    "id": "0a1c189f-72c3-4cc9-9536-a4395541a225"
   },
   "outputs": [],
   "source": []
  }
 ],
 "metadata": {
  "kernelspec": {
   "display_name": "Python 3.7",
   "language": "python",
   "name": "python3"
  },
  "language_info": {
   "codemirror_mode": {
    "name": "ipython",
    "version": 3
   },
   "file_extension": ".py",
   "mimetype": "text/x-python",
   "name": "python",
   "nbconvert_exporter": "python",
   "pygments_lexer": "ipython3",
   "version": "3.7.10"
  }
 },
 "nbformat": 4,
 "nbformat_minor": 4
}
